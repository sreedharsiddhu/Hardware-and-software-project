{
  "nbformat": 4,
  "nbformat_minor": 0,
  "metadata": {
    "colab": {
      "provenance": [],
      "include_colab_link": true
    },
    "kernelspec": {
      "name": "python3",
      "display_name": "Python 3"
    },
    "language_info": {
      "name": "python"
    }
  },
  "cells": [
    {
      "cell_type": "markdown",
      "metadata": {
        "id": "view-in-github",
        "colab_type": "text"
      },
      "source": [
        "<a href=\"https://colab.research.google.com/github/sreedharsiddhu/Hardware-and-software-project/blob/main/example%20.ipynb\" target=\"_parent\"><img src=\"https://colab.research.google.com/assets/colab-badge.svg\" alt=\"Open In Colab\"/></a>"
      ]
    },
    {
      "cell_type": "markdown",
      "source": [
        "**DATA** **PREPROCESSING** **and** **DATA DISCREPTION**\n",
        "\n",
        "---\n",
        "\n"
      ],
      "metadata": {
        "id": "l7KWA0U34rUU"
      }
    },
    {
      "cell_type": "markdown",
      "source": [
        "Importing the Liberies"
      ],
      "metadata": {
        "id": "IxIkWYdF28Ju"
      }
    },
    {
      "cell_type": "code",
      "execution_count": 1,
      "metadata": {
        "id": "q8b27Tce2pjj"
      },
      "outputs": [],
      "source": [
        "import numpy as np\n",
        "import pandas as pd\n",
        "import matplotlib.pyplot as plt\n",
        "%matplotlib inline\n",
        "import seaborn as sns\n",
        "from sklearn.model_selection import train_test_split\n",
        "from sklearn.linear_model import LinearRegression\n",
        "from sklearn.ensemble import RandomForestRegressor\n",
        "from sklearn.decomposition import PCA\n",
        "from sklearn.metrics import mean_squared_error"
      ]
    },
    {
      "cell_type": "code",
      "source": [
        "#function to display basic info for a given dataframe\n",
        "def show_basic_info(df):\n",
        "    print(\"========================================================================================================\")\n",
        "    print(\"HEAD:\")\n",
        "    print(df.head(3))\n",
        "    print(\"--------------------------------------------------------------------------------------------------------\")\n",
        "    print(\"SHAPE:\")\n",
        "    print(df.shape)\n",
        "    print(\"--------------------------------------------------------------------------------------------------------\")\n",
        "    print(\"INFO:\")\n",
        "    print(df.info())\n",
        "    print(\"--------------------------------------------------------------------------------------------------------\")\n",
        "    print(\"DESCRIBE:\")\n",
        "    print(df.describe())\n",
        "    print(\"--------------------------------------------------------------------------------------------------------\")\n",
        "    print(\"========================================================================================================\")"
      ],
      "metadata": {
        "id": "0hML9ymF4Aom"
      },
      "execution_count": 2,
      "outputs": []
    },
    {
      "cell_type": "markdown",
      "source": [
        "**IMPORTING THE DATA SET**\n",
        "\n",
        "---\n",
        "\n",
        "\n",
        "\n",
        "\n"
      ],
      "metadata": {
        "id": "rdd8juh64FFu"
      }
    },
    {
      "cell_type": "code",
      "source": [
        "assessments_df = pd.read_csv('/content/assessments.csv')\n",
        "show_basic_info(assessments_df)"
      ],
      "metadata": {
        "colab": {
          "base_uri": "https://localhost:8080/"
        },
        "id": "65-HvtHl4CkG",
        "outputId": "800fbf92-3b17-47ba-a848-1ca32cbb647a"
      },
      "execution_count": 3,
      "outputs": [
        {
          "output_type": "stream",
          "name": "stdout",
          "text": [
            "========================================================================================================\n",
            "HEAD:\n",
            "  code_module code_presentation  id_assessment assessment_type   date  weight\n",
            "0         AAA             2013J           1752             TMA   19.0    10.0\n",
            "1         AAA             2013J           1753             TMA   54.0    20.0\n",
            "2         AAA             2013J           1754             TMA  117.0    20.0\n",
            "--------------------------------------------------------------------------------------------------------\n",
            "SHAPE:\n",
            "(206, 6)\n",
            "--------------------------------------------------------------------------------------------------------\n",
            "INFO:\n",
            "<class 'pandas.core.frame.DataFrame'>\n",
            "RangeIndex: 206 entries, 0 to 205\n",
            "Data columns (total 6 columns):\n",
            " #   Column             Non-Null Count  Dtype  \n",
            "---  ------             --------------  -----  \n",
            " 0   code_module        206 non-null    object \n",
            " 1   code_presentation  206 non-null    object \n",
            " 2   id_assessment      206 non-null    int64  \n",
            " 3   assessment_type    206 non-null    object \n",
            " 4   date               195 non-null    float64\n",
            " 5   weight             206 non-null    float64\n",
            "dtypes: float64(2), int64(1), object(3)\n",
            "memory usage: 9.8+ KB\n",
            "None\n",
            "--------------------------------------------------------------------------------------------------------\n",
            "DESCRIBE:\n",
            "       id_assessment        date      weight\n",
            "count     206.000000  195.000000  206.000000\n",
            "mean    26473.975728  145.005128   20.873786\n",
            "std     10098.625521   76.001119   30.384224\n",
            "min      1752.000000   12.000000    0.000000\n",
            "25%     15023.250000   71.000000    0.000000\n",
            "50%     25364.500000  152.000000   12.500000\n",
            "75%     34891.750000  222.000000   24.250000\n",
            "max     40088.000000  261.000000  100.000000\n",
            "--------------------------------------------------------------------------------------------------------\n",
            "========================================================================================================\n"
          ]
        }
      ]
    },
    {
      "cell_type": "code",
      "source": [
        "courses_df = pd.read_csv('/content/courses.csv')\n",
        "show_basic_info(courses_df)"
      ],
      "metadata": {
        "colab": {
          "base_uri": "https://localhost:8080/"
        },
        "id": "dRRvSUJ15Hzz",
        "outputId": "4ca71331-07cc-4480-ee21-50440ec97088"
      },
      "execution_count": 4,
      "outputs": [
        {
          "output_type": "stream",
          "name": "stdout",
          "text": [
            "========================================================================================================\n",
            "HEAD:\n",
            "  code_module code_presentation  module_presentation_length\n",
            "0         AAA             2013J                         268\n",
            "1         AAA             2014J                         269\n",
            "2         BBB             2013J                         268\n",
            "--------------------------------------------------------------------------------------------------------\n",
            "SHAPE:\n",
            "(22, 3)\n",
            "--------------------------------------------------------------------------------------------------------\n",
            "INFO:\n",
            "<class 'pandas.core.frame.DataFrame'>\n",
            "RangeIndex: 22 entries, 0 to 21\n",
            "Data columns (total 3 columns):\n",
            " #   Column                      Non-Null Count  Dtype \n",
            "---  ------                      --------------  ----- \n",
            " 0   code_module                 22 non-null     object\n",
            " 1   code_presentation           22 non-null     object\n",
            " 2   module_presentation_length  22 non-null     int64 \n",
            "dtypes: int64(1), object(2)\n",
            "memory usage: 656.0+ bytes\n",
            "None\n",
            "--------------------------------------------------------------------------------------------------------\n",
            "DESCRIBE:\n",
            "       module_presentation_length\n",
            "count                   22.000000\n",
            "mean                   255.545455\n",
            "std                     13.654677\n",
            "min                    234.000000\n",
            "25%                    241.000000\n",
            "50%                    261.500000\n",
            "75%                    268.000000\n",
            "max                    269.000000\n",
            "--------------------------------------------------------------------------------------------------------\n",
            "========================================================================================================\n"
          ]
        }
      ]
    },
    {
      "cell_type": "code",
      "source": [
        "studentAssessment_df = pd.read_csv('/content/studentAssessment.csv')\n",
        "show_basic_info(studentAssessment_df)"
      ],
      "metadata": {
        "colab": {
          "base_uri": "https://localhost:8080/"
        },
        "id": "50Arqyhz5JaM",
        "outputId": "627b522f-4e3a-4dad-e354-01d1f9122cee"
      },
      "execution_count": 5,
      "outputs": [
        {
          "output_type": "stream",
          "name": "stdout",
          "text": [
            "========================================================================================================\n",
            "HEAD:\n",
            "   id_assessment  id_student  date_submitted  is_banked  score\n",
            "0           1752       11391              18          0   78.0\n",
            "1           1752       28400              22          0   70.0\n",
            "2           1752       31604              17          0   72.0\n",
            "--------------------------------------------------------------------------------------------------------\n",
            "SHAPE:\n",
            "(173912, 5)\n",
            "--------------------------------------------------------------------------------------------------------\n",
            "INFO:\n",
            "<class 'pandas.core.frame.DataFrame'>\n",
            "RangeIndex: 173912 entries, 0 to 173911\n",
            "Data columns (total 5 columns):\n",
            " #   Column          Non-Null Count   Dtype  \n",
            "---  ------          --------------   -----  \n",
            " 0   id_assessment   173912 non-null  int64  \n",
            " 1   id_student      173912 non-null  int64  \n",
            " 2   date_submitted  173912 non-null  int64  \n",
            " 3   is_banked       173912 non-null  int64  \n",
            " 4   score           173739 non-null  float64\n",
            "dtypes: float64(1), int64(4)\n",
            "memory usage: 6.6 MB\n",
            "None\n",
            "--------------------------------------------------------------------------------------------------------\n",
            "DESCRIBE:\n",
            "       id_assessment    id_student  date_submitted      is_banked  \\\n",
            "count  173912.000000  1.739120e+05   173912.000000  173912.000000   \n",
            "mean    26553.803556  7.051507e+05      116.032942       0.010977   \n",
            "std      8829.784254  5.523952e+05       71.484148       0.104194   \n",
            "min      1752.000000  6.516000e+03      -11.000000       0.000000   \n",
            "25%     15022.000000  5.044290e+05       51.000000       0.000000   \n",
            "50%     25359.000000  5.852080e+05      116.000000       0.000000   \n",
            "75%     34883.000000  6.344980e+05      173.000000       0.000000   \n",
            "max     37443.000000  2.698588e+06      608.000000       1.000000   \n",
            "\n",
            "               score  \n",
            "count  173739.000000  \n",
            "mean       75.799573  \n",
            "std        18.798107  \n",
            "min         0.000000  \n",
            "25%        65.000000  \n",
            "50%        80.000000  \n",
            "75%        90.000000  \n",
            "max       100.000000  \n",
            "--------------------------------------------------------------------------------------------------------\n",
            "========================================================================================================\n"
          ]
        }
      ]
    },
    {
      "cell_type": "code",
      "source": [
        "studentInfo_df = pd.read_csv('/content/studentInfo.csv')\n",
        "show_basic_info(studentInfo_df)"
      ],
      "metadata": {
        "colab": {
          "base_uri": "https://localhost:8080/"
        },
        "id": "356UTo1s5Jy7",
        "outputId": "22761198-a0b3-4d5d-bac3-9a20fa0a2d95"
      },
      "execution_count": 6,
      "outputs": [
        {
          "output_type": "stream",
          "name": "stdout",
          "text": [
            "========================================================================================================\n",
            "HEAD:\n",
            "  code_module code_presentation  id_student gender                region  \\\n",
            "0         AAA             2013J       11391      M   East Anglian Region   \n",
            "1         AAA             2013J       28400      F              Scotland   \n",
            "2         AAA             2013J       30268      F  North Western Region   \n",
            "\n",
            "       highest_education imd_band age_band  num_of_prev_attempts  \\\n",
            "0       HE Qualification  90-100%     55<=                     0   \n",
            "1       HE Qualification   20-30%    35-55                     0   \n",
            "2  A Level or Equivalent   30-40%    35-55                     0   \n",
            "\n",
            "   studied_credits disability final_result  \n",
            "0              240          N         Pass  \n",
            "1               60          N         Pass  \n",
            "2               60          Y    Withdrawn  \n",
            "--------------------------------------------------------------------------------------------------------\n",
            "SHAPE:\n",
            "(32593, 12)\n",
            "--------------------------------------------------------------------------------------------------------\n",
            "INFO:\n",
            "<class 'pandas.core.frame.DataFrame'>\n",
            "RangeIndex: 32593 entries, 0 to 32592\n",
            "Data columns (total 12 columns):\n",
            " #   Column                Non-Null Count  Dtype \n",
            "---  ------                --------------  ----- \n",
            " 0   code_module           32593 non-null  object\n",
            " 1   code_presentation     32593 non-null  object\n",
            " 2   id_student            32593 non-null  int64 \n",
            " 3   gender                32593 non-null  object\n",
            " 4   region                32593 non-null  object\n",
            " 5   highest_education     32593 non-null  object\n",
            " 6   imd_band              31482 non-null  object\n",
            " 7   age_band              32593 non-null  object\n",
            " 8   num_of_prev_attempts  32593 non-null  int64 \n",
            " 9   studied_credits       32593 non-null  int64 \n",
            " 10  disability            32593 non-null  object\n",
            " 11  final_result          32593 non-null  object\n",
            "dtypes: int64(3), object(9)\n",
            "memory usage: 3.0+ MB\n",
            "None\n",
            "--------------------------------------------------------------------------------------------------------\n",
            "DESCRIBE:\n",
            "         id_student  num_of_prev_attempts  studied_credits\n",
            "count  3.259300e+04          32593.000000     32593.000000\n",
            "mean   7.066877e+05              0.163225        79.758691\n",
            "std    5.491673e+05              0.479758        41.071900\n",
            "min    3.733000e+03              0.000000        30.000000\n",
            "25%    5.085730e+05              0.000000        60.000000\n",
            "50%    5.903100e+05              0.000000        60.000000\n",
            "75%    6.444530e+05              0.000000       120.000000\n",
            "max    2.716795e+06              6.000000       655.000000\n",
            "--------------------------------------------------------------------------------------------------------\n",
            "========================================================================================================\n"
          ]
        }
      ]
    },
    {
      "cell_type": "code",
      "source": [
        "studentRegistration_df = pd.read_csv('/content/studentRegistration.csv')\n",
        "show_basic_info(studentRegistration_df)"
      ],
      "metadata": {
        "colab": {
          "base_uri": "https://localhost:8080/"
        },
        "id": "MDMUpZLC5NBF",
        "outputId": "3d680676-fd2f-4a29-b201-096c8bc4bf82"
      },
      "execution_count": 7,
      "outputs": [
        {
          "output_type": "stream",
          "name": "stdout",
          "text": [
            "========================================================================================================\n",
            "HEAD:\n",
            "  code_module code_presentation  id_student  date_registration  \\\n",
            "0         AAA             2013J       11391             -159.0   \n",
            "1         AAA             2013J       28400              -53.0   \n",
            "2         AAA             2013J       30268              -92.0   \n",
            "\n",
            "   date_unregistration  \n",
            "0                  NaN  \n",
            "1                  NaN  \n",
            "2                 12.0  \n",
            "--------------------------------------------------------------------------------------------------------\n",
            "SHAPE:\n",
            "(32593, 5)\n",
            "--------------------------------------------------------------------------------------------------------\n",
            "INFO:\n",
            "<class 'pandas.core.frame.DataFrame'>\n",
            "RangeIndex: 32593 entries, 0 to 32592\n",
            "Data columns (total 5 columns):\n",
            " #   Column               Non-Null Count  Dtype  \n",
            "---  ------               --------------  -----  \n",
            " 0   code_module          32593 non-null  object \n",
            " 1   code_presentation    32593 non-null  object \n",
            " 2   id_student           32593 non-null  int64  \n",
            " 3   date_registration    32548 non-null  float64\n",
            " 4   date_unregistration  10072 non-null  float64\n",
            "dtypes: float64(2), int64(1), object(2)\n",
            "memory usage: 1.2+ MB\n",
            "None\n",
            "--------------------------------------------------------------------------------------------------------\n",
            "DESCRIBE:\n",
            "         id_student  date_registration  date_unregistration\n",
            "count  3.259300e+04       32548.000000         10072.000000\n",
            "mean   7.066877e+05         -69.411300            49.757645\n",
            "std    5.491673e+05          49.260522            82.460890\n",
            "min    3.733000e+03        -322.000000          -365.000000\n",
            "25%    5.085730e+05        -100.000000            -2.000000\n",
            "50%    5.903100e+05         -57.000000            27.000000\n",
            "75%    6.444530e+05         -29.000000           109.000000\n",
            "max    2.716795e+06         167.000000           444.000000\n",
            "--------------------------------------------------------------------------------------------------------\n",
            "========================================================================================================\n"
          ]
        }
      ]
    },
    {
      "cell_type": "code",
      "source": [
        "vle_df = pd.read_csv('/content/vle.csv')\n",
        "show_basic_info(vle_df)"
      ],
      "metadata": {
        "colab": {
          "base_uri": "https://localhost:8080/"
        },
        "id": "j24xmm-y5Ot7",
        "outputId": "f7ec7685-6256-47ee-cdd3-97c6424daec8"
      },
      "execution_count": 8,
      "outputs": [
        {
          "output_type": "stream",
          "name": "stdout",
          "text": [
            "========================================================================================================\n",
            "HEAD:\n",
            "   id_site code_module code_presentation activity_type  week_from  week_to\n",
            "0   546943         AAA             2013J      resource        NaN      NaN\n",
            "1   546712         AAA             2013J     oucontent        NaN      NaN\n",
            "2   546998         AAA             2013J      resource        NaN      NaN\n",
            "--------------------------------------------------------------------------------------------------------\n",
            "SHAPE:\n",
            "(6364, 6)\n",
            "--------------------------------------------------------------------------------------------------------\n",
            "INFO:\n",
            "<class 'pandas.core.frame.DataFrame'>\n",
            "RangeIndex: 6364 entries, 0 to 6363\n",
            "Data columns (total 6 columns):\n",
            " #   Column             Non-Null Count  Dtype  \n",
            "---  ------             --------------  -----  \n",
            " 0   id_site            6364 non-null   int64  \n",
            " 1   code_module        6364 non-null   object \n",
            " 2   code_presentation  6364 non-null   object \n",
            " 3   activity_type      6364 non-null   object \n",
            " 4   week_from          1121 non-null   float64\n",
            " 5   week_to            1121 non-null   float64\n",
            "dtypes: float64(2), int64(1), object(3)\n",
            "memory usage: 298.4+ KB\n",
            "None\n",
            "--------------------------------------------------------------------------------------------------------\n",
            "DESCRIBE:\n",
            "            id_site    week_from      week_to\n",
            "count  6.364000e+03  1121.000000  1121.000000\n",
            "mean   7.260991e+05    15.204282    15.214987\n",
            "std    1.283151e+05     8.792865     8.779806\n",
            "min    5.267210e+05     0.000000     0.000000\n",
            "25%    6.615928e+05     8.000000     8.000000\n",
            "50%    7.300965e+05    15.000000    15.000000\n",
            "75%    8.140162e+05    22.000000    22.000000\n",
            "max    1.077905e+06    29.000000    29.000000\n",
            "--------------------------------------------------------------------------------------------------------\n",
            "========================================================================================================\n"
          ]
        }
      ]
    },
    {
      "cell_type": "markdown",
      "source": [
        "**As the dataset for StudentVle is Huge we have divided the file into 8 parts so that it can be easly uploaded in Googlecolab**"
      ],
      "metadata": {
        "id": "aWS1k_S861wk"
      }
    },
    {
      "cell_type": "code",
      "source": [
        "studentVle_df1 = pd.read_csv('/content/studentVle_0.csv')\n",
        "studentVle_df2 = pd.read_csv('/content/studentVle_1.csv')\n",
        "studentVle_df3 = pd.read_csv('/content/studentVle_2.csv')\n",
        "studentVle_df4 = pd.read_csv('/content/studentVle_3.csv')\n",
        "studentVle_df5 = pd.read_csv('/content/studentVle_4.csv')\n",
        "studentVle_df6 = pd.read_csv('/content/studentVle_5.csv')\n",
        "studentVle_df7 = pd.read_csv('/content/studentVle_6.csv')\n",
        "studentVle_df8 = pd.read_csv('/content/studentVle_7.csv')"
      ],
      "metadata": {
        "id": "PQuokik85PEs"
      },
      "execution_count": 9,
      "outputs": []
    },
    {
      "cell_type": "code",
      "source": [
        "studentVle_df = pd.concat([studentVle_df1,studentVle_df2, studentVle_df3,\n",
        "                           studentVle_df4, studentVle_df5, studentVle_df6,\n",
        "                           studentVle_df7, studentVle_df8])\n",
        "\n",
        "\n",
        "\n",
        "\n",
        "\n"
      ],
      "metadata": {
        "id": "-si3hBgE5kt8"
      },
      "execution_count": 10,
      "outputs": []
    },
    {
      "cell_type": "code",
      "source": [],
      "metadata": {
        "id": "3FXOfWI9uhf2"
      },
      "execution_count": null,
      "outputs": []
    },
    {
      "cell_type": "markdown",
      "source": [
        "**DATA CLEANING CLEARING THE NULL VALUES**  "
      ],
      "metadata": {
        "id": "b4xCVTfLXow0"
      }
    },
    {
      "cell_type": "code",
      "source": [
        "# Find the null values in the dataset\n",
        "vle_null_values = vle_df.isnull().sum()\n",
        "\n",
        "# Display the null values\n",
        "print(vle_null_values)"
      ],
      "metadata": {
        "id": "YiyfEaqZpGmf",
        "outputId": "cc004a9c-c540-4dac-9e43-deb2133aa43f",
        "colab": {
          "base_uri": "https://localhost:8080/"
        }
      },
      "execution_count": 11,
      "outputs": [
        {
          "output_type": "stream",
          "name": "stdout",
          "text": [
            "id_site                 0\n",
            "code_module             0\n",
            "code_presentation       0\n",
            "activity_type           0\n",
            "week_from            5243\n",
            "week_to              5243\n",
            "dtype: int64\n"
          ]
        }
      ]
    },
    {
      "cell_type": "markdown",
      "source": [
        "Most of the entries of 'week_from' and 'week_to' attributes are missing so the analysis will not be focusing on the dates.\n",
        "\n",
        "In order to get ride of the extra load on memory, these columns will be dropped in the next step."
      ],
      "metadata": {
        "id": "0gpnWhjwpepf"
      }
    },
    {
      "cell_type": "code",
      "source": [
        "vle_df.drop(columns=['week_from','week_to'],inplace=True)"
      ],
      "metadata": {
        "id": "TA5SZUXGpiX_"
      },
      "execution_count": 12,
      "outputs": []
    },
    {
      "cell_type": "code",
      "source": [
        "# Find the null values in the dataset\n",
        "studentRegistration_null_values = studentRegistration_df.isnull().sum()\n",
        "\n",
        "# Displaying the null values\n",
        "print(studentRegistration_null_values)"
      ],
      "metadata": {
        "id": "Y73hoek1p1sX",
        "outputId": "67479d8f-eb6d-4854-fb8a-795bcad64a2a",
        "colab": {
          "base_uri": "https://localhost:8080/"
        }
      },
      "execution_count": 13,
      "outputs": [
        {
          "output_type": "stream",
          "name": "stdout",
          "text": [
            "code_module                0\n",
            "code_presentation          0\n",
            "id_student                 0\n",
            "date_registration         45\n",
            "date_unregistration    22521\n",
            "dtype: int64\n"
          ]
        }
      ]
    },
    {
      "cell_type": "markdown",
      "source": [
        "70% of the rows are missing date_unregistration. This means that 70% of the students don't withdraw the modules."
      ],
      "metadata": {
        "id": "Yjhoxlo_qRhW"
      }
    },
    {
      "cell_type": "code",
      "source": [
        "# Fill null values in 'date_registration' with the mode of the column\n",
        "date_registration_mode = studentRegistration_df['date_registration'].mode()[0]\n",
        "studentRegistration_df['date_registration'].fillna(date_registration_mode, inplace=True)\n",
        "\n",
        "# Fill null values in 'date_unregistration' with the mode of the column\n",
        "date_unregistration_mode = studentRegistration_df['date_unregistration'].mode()[0]\n",
        "studentRegistration_df['date_unregistration'].fillna(date_unregistration_mode, inplace=True)"
      ],
      "metadata": {
        "id": "FP_iV5Q6TCVK"
      },
      "execution_count": 14,
      "outputs": []
    },
    {
      "cell_type": "code",
      "source": [
        "# Find the null values in the dataset\n",
        "studentRegistration_null_values = studentRegistration_df.isnull().sum()\n",
        "\n",
        "# Displaying the null values\n",
        "print(studentRegistration_null_values)"
      ],
      "metadata": {
        "id": "kqatric6UAry",
        "outputId": "280bd22c-c542-4387-b5bb-7f4c71c1d138",
        "colab": {
          "base_uri": "https://localhost:8080/"
        }
      },
      "execution_count": 15,
      "outputs": [
        {
          "output_type": "stream",
          "name": "stdout",
          "text": [
            "code_module            0\n",
            "code_presentation      0\n",
            "id_student             0\n",
            "date_registration      0\n",
            "date_unregistration    0\n",
            "dtype: int64\n"
          ]
        }
      ]
    },
    {
      "cell_type": "code",
      "source": [
        "# Fill null values in 'imd_band' with the mode of the column\n",
        "imd_band_mode = studentInfo_df['imd_band'].mode()[0]\n",
        "studentInfo_df['imd_band'].fillna(imd_band_mode, inplace=True)"
      ],
      "metadata": {
        "id": "_BsoHTbcWITJ"
      },
      "execution_count": 16,
      "outputs": []
    },
    {
      "cell_type": "code",
      "source": [
        "# Find the null values in the dataset\n",
        "studentInfo_null_values = studentInfo_df.isnull().sum()\n",
        "\n",
        "# Displaying the null values\n",
        "print(studentInfo_null_values)\n",
        "\n",
        "studentInfo_df.shape"
      ],
      "metadata": {
        "id": "_ijy0LHMUNYZ",
        "outputId": "61ba32b7-41d9-44de-e344-de3108c9d57e",
        "colab": {
          "base_uri": "https://localhost:8080/"
        }
      },
      "execution_count": 17,
      "outputs": [
        {
          "output_type": "stream",
          "name": "stdout",
          "text": [
            "code_module             0\n",
            "code_presentation       0\n",
            "id_student              0\n",
            "gender                  0\n",
            "region                  0\n",
            "highest_education       0\n",
            "imd_band                0\n",
            "age_band                0\n",
            "num_of_prev_attempts    0\n",
            "studied_credits         0\n",
            "disability              0\n",
            "final_result            0\n",
            "dtype: int64\n"
          ]
        },
        {
          "output_type": "execute_result",
          "data": {
            "text/plain": [
              "(32593, 12)"
            ]
          },
          "metadata": {},
          "execution_count": 17
        }
      ]
    },
    {
      "cell_type": "code",
      "source": [
        "# Fill null values in 'score' with the mean of the column\n",
        "score_mean = studentAssessment_df['score'].mean()\n",
        "studentAssessment_df['score'].fillna(score_mean, inplace=True)"
      ],
      "metadata": {
        "id": "T6Go0fzNW04S"
      },
      "execution_count": 18,
      "outputs": []
    },
    {
      "cell_type": "code",
      "source": [
        "# Find the null values in the dataset\n",
        "studentAssessment_null_values = studentAssessment_df.isnull().sum()\n",
        "\n",
        "# Displaying the null values\n",
        "print(studentAssessment_null_values)"
      ],
      "metadata": {
        "id": "z57594etUaS8",
        "outputId": "f0b5d0c9-82db-41bc-909d-fce55508e175",
        "colab": {
          "base_uri": "https://localhost:8080/"
        }
      },
      "execution_count": 19,
      "outputs": [
        {
          "output_type": "stream",
          "name": "stdout",
          "text": [
            "id_assessment     0\n",
            "id_student        0\n",
            "date_submitted    0\n",
            "is_banked         0\n",
            "score             0\n",
            "dtype: int64\n"
          ]
        }
      ]
    },
    {
      "cell_type": "code",
      "source": [
        "# Fill null values in 'date' with the mean of the column\n",
        "date_mean = assessments_df['date'].mean()\n",
        "assessments_df['date'].fillna(date_mean, inplace=True)"
      ],
      "metadata": {
        "id": "wpS8REPuXUik"
      },
      "execution_count": 20,
      "outputs": []
    },
    {
      "cell_type": "code",
      "source": [
        "# Find the null values in the dataset\n",
        "assessments_null_values = assessments_df.isnull().sum()\n",
        "\n",
        "# Displaying the null values\n",
        "print(assessments_null_values)"
      ],
      "metadata": {
        "id": "wmgKg_6uVkKR",
        "outputId": "1b0a8c85-6ab2-46ad-8bf9-644848d935a4",
        "colab": {
          "base_uri": "https://localhost:8080/"
        }
      },
      "execution_count": 21,
      "outputs": [
        {
          "output_type": "stream",
          "name": "stdout",
          "text": [
            "code_module          0\n",
            "code_presentation    0\n",
            "id_assessment        0\n",
            "assessment_type      0\n",
            "date                 0\n",
            "weight               0\n",
            "dtype: int64\n"
          ]
        }
      ]
    },
    {
      "cell_type": "markdown",
      "source": [
        "**Exploratory Data Analysis**\n",
        "\n",
        "---\n",
        "\n"
      ],
      "metadata": {
        "id": "m5US9o-g8f_U"
      }
    },
    {
      "cell_type": "code",
      "source": [
        "#Checking gender distribution\n",
        "sns.countplot(studentInfo_df.gender);\n",
        "#this shows that courses data is almost equally distributed on gender but Male ratio is slighter higher"
      ],
      "metadata": {
        "colab": {
          "base_uri": "https://localhost:8080/",
          "height": 449
        },
        "id": "NOhoZKEe8YAU",
        "outputId": "7cb2fd4e-a5b6-4937-fa9d-f2af6359f96f"
      },
      "execution_count": 22,
      "outputs": [
        {
          "output_type": "display_data",
          "data": {
            "text/plain": [
              "<Figure size 640x480 with 1 Axes>"
            ],
            "image/png": "[encoded data removed]"
          },
          "metadata": {}
        }
      ]
    },
    {
      "cell_type": "code",
      "source": [
        "#Chaecking with respect to age\n",
        "studentInfo_df[['id_student', 'age_band']].groupby(by='age_band').count().plot.bar();\n",
        "#this shows majority of students fall in age band of 0-35\n"
      ],
      "metadata": {
        "colab": {
          "base_uri": "https://localhost:8080/",
          "height": 476
        },
        "id": "zBm5qruu8-Gr",
        "outputId": "eda3405a-fe93-480f-880f-512081020c54"
      },
      "execution_count": 23,
      "outputs": [
        {
          "output_type": "display_data",
          "data": {
            "text/plain": [
              "<Figure size 640x480 with 1 Axes>"
            ],
            "image/png": "[encoded data removed]"
          },
          "metadata": {}
        }
      ]
    },
    {
      "cell_type": "code",
      "source": [
        "#Chaecking with respect to region\n",
        "studentInfo_df[['id_student', 'region']].groupby(by='region').count().plot.bar();\n",
        "#Here we can see the maximum student are registering from Scotland."
      ],
      "metadata": {
        "colab": {
          "base_uri": "https://localhost:8080/",
          "height": 588
        },
        "id": "sbA5utI7_YJb",
        "outputId": "749ff3e2-2456-420f-df70-8872f37d21bc"
      },
      "execution_count": 24,
      "outputs": [
        {
          "output_type": "display_data",
          "data": {
            "text/plain": [
              "<Figure size 640x480 with 1 Axes>"
            ],
            "image/png": "[encoded data removed]"
          },
          "metadata": {}
        }
      ]
    },
    {
      "cell_type": "code",
      "source": [
        "#Checking the same with respect to the Age band.\n",
        "pd.crosstab(studentInfo_df.region, studentInfo_df.age_band).plot.barh(stacked = True);\n",
        "#This is the same as above Graph but it is distributed with respect to the age band.\n",
        "#Here we can see the Max age band are between 0 - 35 years of student"
      ],
      "metadata": {
        "colab": {
          "base_uri": "https://localhost:8080/",
          "height": 430
        },
        "id": "Uti6GEmJAtJy",
        "outputId": "5e163529-33a4-481e-bc3a-fa0e3bb1082f"
      },
      "execution_count": 25,
      "outputs": [
        {
          "output_type": "display_data",
          "data": {
            "text/plain": [
              "<Figure size 640x480 with 1 Axes>"
            ],
            "image/png": "[encoded data removed]"
          },
          "metadata": {}
        }
      ]
    },
    {
      "cell_type": "code",
      "source": [
        "#Outlayers with respect to region\n",
        "studentInfo_df.drop(['id_student', 'num_of_prev_attempts'], axis=1).boxplot(by = 'region')\n",
        "plt.xticks(rotation = 90)\n"
      ],
      "metadata": {
        "colab": {
          "base_uri": "https://localhost:8080/",
          "height": 860
        },
        "id": "dXNTL9EZAzaS",
        "outputId": "47b29ba8-d716-4894-9837-2dfe1f401fbf"
      },
      "execution_count": 26,
      "outputs": [
        {
          "output_type": "execute_result",
          "data": {
            "text/plain": [
              "(array([ 1,  2,  3,  4,  5,  6,  7,  8,  9, 10, 11, 12, 13]),\n",
              " [Text(1, 0, 'East Anglian Region'),\n",
              "  Text(2, 0, 'East Midlands Region'),\n",
              "  Text(3, 0, 'Ireland'),\n",
              "  Text(4, 0, 'London Region'),\n",
              "  Text(5, 0, 'North Region'),\n",
              "  Text(6, 0, 'North Western Region'),\n",
              "  Text(7, 0, 'Scotland'),\n",
              "  Text(8, 0, 'South East Region'),\n",
              "  Text(9, 0, 'South Region'),\n",
              "  Text(10, 0, 'South West Region'),\n",
              "  Text(11, 0, 'Wales'),\n",
              "  Text(12, 0, 'West Midlands Region'),\n",
              "  Text(13, 0, 'Yorkshire Region')])"
            ]
          },
          "metadata": {},
          "execution_count": 26
        },
        {
          "output_type": "display_data",
          "data": {
            "text/plain": [
              "<Figure size 640x480 with 1 Axes>"
            ],
            "image/png": "[encoded data removed]"
          },
          "metadata": {}
        }
      ]
    },
    {
      "cell_type": "code",
      "source": [
        "#its the same as the above graph\n",
        "sns.boxplot(x = 'region', y = 'studied_credits', data=studentInfo_df)\n",
        "plt.xticks(rotation = 90)"
      ],
      "metadata": {
        "id": "Q8ZIReWCi5eB",
        "outputId": "0bb30536-f0ff-4f77-f9e4-a031cb1d77dc",
        "colab": {
          "base_uri": "https://localhost:8080/",
          "height": 831
        }
      },
      "execution_count": 27,
      "outputs": [
        {
          "output_type": "execute_result",
          "data": {
            "text/plain": [
              "([0, 1, 2, 3, 4, 5, 6, 7, 8, 9, 10, 11, 12],\n",
              " [Text(0, 0, 'East Anglian Region'),\n",
              "  Text(1, 0, 'Scotland'),\n",
              "  Text(2, 0, 'North Western Region'),\n",
              "  Text(3, 0, 'South East Region'),\n",
              "  Text(4, 0, 'West Midlands Region'),\n",
              "  Text(5, 0, 'Wales'),\n",
              "  Text(6, 0, 'North Region'),\n",
              "  Text(7, 0, 'South Region'),\n",
              "  Text(8, 0, 'Ireland'),\n",
              "  Text(9, 0, 'South West Region'),\n",
              "  Text(10, 0, 'East Midlands Region'),\n",
              "  Text(11, 0, 'Yorkshire Region'),\n",
              "  Text(12, 0, 'London Region')])"
            ]
          },
          "metadata": {},
          "execution_count": 27
        },
        {
          "output_type": "display_data",
          "data": {
            "text/plain": [
              "<Figure size 640x480 with 1 Axes>"
            ],
            "image/png": "[encoded data removed]"
          },
          "metadata": {}
        }
      ]
    },
    {
      "cell_type": "code",
      "source": [
        "# selecting a subset of cols which are of importance to us and grouping them by student id and aggregating them using median\n",
        "studentPerformance_df = studentInfo_df[['id_student', 'num_of_prev_attempts', 'studied_credits']].groupby('id_student').median()"
      ],
      "metadata": {
        "id": "Xn21TSnDB-93"
      },
      "execution_count": 28,
      "outputs": []
    },
    {
      "cell_type": "code",
      "source": [
        "studentPerformance_df.head()"
      ],
      "metadata": {
        "id": "FNuR0nULjDgS",
        "outputId": "bc301df5-d554-497e-8a44-f429a41fbef8",
        "colab": {
          "base_uri": "https://localhost:8080/",
          "height": 237
        }
      },
      "execution_count": 29,
      "outputs": [
        {
          "output_type": "execute_result",
          "data": {
            "text/plain": [
              "            num_of_prev_attempts  studied_credits\n",
              "id_student                                       \n",
              "3733                         0.0             60.0\n",
              "6516                         0.0             60.0\n",
              "8462                         0.5             75.0\n",
              "11391                        0.0            240.0\n",
              "23629                        2.0             60.0"
            ],
            "text/html": [
              "\n",
              "  <div id=\"df-315ee295-a5d4-4903-9b07-a5d870ebfa3f\" class=\"colab-df-container\">\n",
              "    <div>\n",
              "<style scoped>\n",
              "    .dataframe tbody tr th:only-of-type {\n",
              "        vertical-align: middle;\n",
              "    }\n",
              "\n",
              "    .dataframe tbody tr th {\n",
              "        vertical-align: top;\n",
              "    }\n",
              "\n",
              "    .dataframe thead th {\n",
              "        text-align: right;\n",
              "    }\n",
              "</style>\n",
              "<table border=\"1\" class=\"dataframe\">\n",
              "  <thead>\n",
              "    <tr style=\"text-align: right;\">\n",
              "      <th></th>\n",
              "      <th>num_of_prev_attempts</th>\n",
              "      <th>studied_credits</th>\n",
              "    </tr>\n",
              "    <tr>\n",
              "      <th>id_student</th>\n",
              "      <th></th>\n",
              "      <th></th>\n",
              "    </tr>\n",
              "  </thead>\n",
              "  <tbody>\n",
              "    <tr>\n",
              "      <th>3733</th>\n",
              "      <td>0.0</td>\n",
              "      <td>60.0</td>\n",
              "    </tr>\n",
              "    <tr>\n",
              "      <th>6516</th>\n",
              "      <td>0.0</td>\n",
              "      <td>60.0</td>\n",
              "    </tr>\n",
              "    <tr>\n",
              "      <th>8462</th>\n",
              "      <td>0.5</td>\n",
              "      <td>75.0</td>\n",
              "    </tr>\n",
              "    <tr>\n",
              "      <th>11391</th>\n",
              "      <td>0.0</td>\n",
              "      <td>240.0</td>\n",
              "    </tr>\n",
              "    <tr>\n",
              "      <th>23629</th>\n",
              "      <td>2.0</td>\n",
              "      <td>60.0</td>\n",
              "    </tr>\n",
              "  </tbody>\n",
              "</table>\n",
              "</div>\n",
              "    <div class=\"colab-df-buttons\">\n",
              "\n",
              "  <div class=\"colab-df-container\">\n",
              "    <button class=\"colab-df-convert\" onclick=\"convertToInteractive('df-315ee295-a5d4-4903-9b07-a5d870ebfa3f')\"\n",
              "            title=\"Convert this dataframe to an interactive table.\"\n",
              "            style=\"display:none;\">\n",
              "\n",
              "  <svg xmlns=\"http://www.w3.org/2000/svg\" height=\"24px\" viewBox=\"0 -960 960 960\">\n",
              "    <path d=\"M120-120v-720h720v720H120Zm60-500h600v-160H180v160Zm220 220h160v-160H400v160Zm0 220h160v-160H400v160ZM180-400h160v-160H180v160Zm440 0h160v-160H620v160ZM180-180h160v-160H180v160Zm440 0h160v-160H620v160Z\"/>\n",
              "  </svg>\n",
              "    </button>\n",
              "\n",
              "  <style>\n",
              "    .colab-df-container {\n",
              "      display:flex;\n",
              "      gap: 12px;\n",
              "    }\n",
              "\n",
              "    .colab-df-convert {\n",
              "      background-color: #E8F0FE;\n",
              "      border: none;\n",
              "      border-radius: 50%;\n",
              "      cursor: pointer;\n",
              "      display: none;\n",
              "      fill: #1967D2;\n",
              "      height: 32px;\n",
              "      padding: 0 0 0 0;\n",
              "      width: 32px;\n",
              "    }\n",
              "\n",
              "    .colab-df-convert:hover {\n",
              "      background-color: #E2EBFA;\n",
              "      box-shadow: 0px 1px 2px rgba(60, 64, 67, 0.3), 0px 1px 3px 1px rgba(60, 64, 67, 0.15);\n",
              "      fill: #174EA6;\n",
              "    }\n",
              "\n",
              "    .colab-df-buttons div {\n",
              "      margin-bottom: 4px;\n",
              "    }\n",
              "\n",
              "    [theme=dark] .colab-df-convert {\n",
              "      background-color: #3B4455;\n",
              "      fill: #D2E3FC;\n",
              "    }\n",
              "\n",
              "    [theme=dark] .colab-df-convert:hover {\n",
              "      background-color: #434B5C;\n",
              "      box-shadow: 0px 1px 3px 1px rgba(0, 0, 0, 0.15);\n",
              "      filter: drop-shadow(0px 1px 2px rgba(0, 0, 0, 0.3));\n",
              "      fill: #FFFFFF;\n",
              "    }\n",
              "  </style>\n",
              "\n",
              "    <script>\n",
              "      const buttonEl =\n",
              "        document.querySelector('#df-315ee295-a5d4-4903-9b07-a5d870ebfa3f button.colab-df-convert');\n",
              "      buttonEl.style.display =\n",
              "        google.colab.kernel.accessAllowed ? 'block' : 'none';\n",
              "\n",
              "      async function convertToInteractive(key) {\n",
              "        const element = document.querySelector('#df-315ee295-a5d4-4903-9b07-a5d870ebfa3f');\n",
              "        const dataTable =\n",
              "          await google.colab.kernel.invokeFunction('convertToInteractive',\n",
              "                                                    [key], {});\n",
              "        if (!dataTable) return;\n",
              "\n",
              "        const docLinkHtml = 'Like what you see? Visit the ' +\n",
              "          '<a target=\"_blank\" href=https://colab.research.google.com/notebooks/data_table.ipynb>data table notebook</a>'\n",
              "          + ' to learn more about interactive tables.';\n",
              "        element.innerHTML = '';\n",
              "        dataTable['output_type'] = 'display_data';\n",
              "        await google.colab.output.renderOutput(dataTable, element);\n",
              "        const docLink = document.createElement('div');\n",
              "        docLink.innerHTML = docLinkHtml;\n",
              "        element.appendChild(docLink);\n",
              "      }\n",
              "    </script>\n",
              "  </div>\n",
              "\n",
              "\n",
              "<div id=\"df-4a315562-0371-48f2-a332-e26692c1cb4b\">\n",
              "  <button class=\"colab-df-quickchart\" onclick=\"quickchart('df-4a315562-0371-48f2-a332-e26692c1cb4b')\"\n",
              "            title=\"Suggest charts\"\n",
              "            style=\"display:none;\">\n",
              "\n",
              "<svg xmlns=\"http://www.w3.org/2000/svg\" height=\"24px\"viewBox=\"0 0 24 24\"\n",
              "     width=\"24px\">\n",
              "    <g>\n",
              "        <path d=\"M19 3H5c-1.1 0-2 .9-2 2v14c0 1.1.9 2 2 2h14c1.1 0 2-.9 2-2V5c0-1.1-.9-2-2-2zM9 17H7v-7h2v7zm4 0h-2V7h2v10zm4 0h-2v-4h2v4z\"/>\n",
              "    </g>\n",
              "</svg>\n",
              "  </button>\n",
              "\n",
              "<style>\n",
              "  .colab-df-quickchart {\n",
              "      --bg-color: #E8F0FE;\n",
              "      --fill-color: #1967D2;\n",
              "      --hover-bg-color: #E2EBFA;\n",
              "      --hover-fill-color: #174EA6;\n",
              "      --disabled-fill-color: #AAA;\n",
              "      --disabled-bg-color: #DDD;\n",
              "  }\n",
              "\n",
              "  [theme=dark] .colab-df-quickchart {\n",
              "      --bg-color: #3B4455;\n",
              "      --fill-color: #D2E3FC;\n",
              "      --hover-bg-color: #434B5C;\n",
              "      --hover-fill-color: #FFFFFF;\n",
              "      --disabled-bg-color: #3B4455;\n",
              "      --disabled-fill-color: #666;\n",
              "  }\n",
              "\n",
              "  .colab-df-quickchart {\n",
              "    background-color: var(--bg-color);\n",
              "    border: none;\n",
              "    border-radius: 50%;\n",
              "    cursor: pointer;\n",
              "    display: none;\n",
              "    fill: var(--fill-color);\n",
              "    height: 32px;\n",
              "    padding: 0;\n",
              "    width: 32px;\n",
              "  }\n",
              "\n",
              "  .colab-df-quickchart:hover {\n",
              "    background-color: var(--hover-bg-color);\n",
              "    box-shadow: 0 1px 2px rgba(60, 64, 67, 0.3), 0 1px 3px 1px rgba(60, 64, 67, 0.15);\n",
              "    fill: var(--button-hover-fill-color);\n",
              "  }\n",
              "\n",
              "  .colab-df-quickchart-complete:disabled,\n",
              "  .colab-df-quickchart-complete:disabled:hover {\n",
              "    background-color: var(--disabled-bg-color);\n",
              "    fill: var(--disabled-fill-color);\n",
              "    box-shadow: none;\n",
              "  }\n",
              "\n",
              "  .colab-df-spinner {\n",
              "    border: 2px solid var(--fill-color);\n",
              "    border-color: transparent;\n",
              "    border-bottom-color: var(--fill-color);\n",
              "    animation:\n",
              "      spin 1s steps(1) infinite;\n",
              "  }\n",
              "\n",
              "  @keyframes spin {\n",
              "    0% {\n",
              "      border-color: transparent;\n",
              "      border-bottom-color: var(--fill-color);\n",
              "      border-left-color: var(--fill-color);\n",
              "    }\n",
              "    20% {\n",
              "      border-color: transparent;\n",
              "      border-left-color: var(--fill-color);\n",
              "      border-top-color: var(--fill-color);\n",
              "    }\n",
              "    30% {\n",
              "      border-color: transparent;\n",
              "      border-left-color: var(--fill-color);\n",
              "      border-top-color: var(--fill-color);\n",
              "      border-right-color: var(--fill-color);\n",
              "    }\n",
              "    40% {\n",
              "      border-color: transparent;\n",
              "      border-right-color: var(--fill-color);\n",
              "      border-top-color: var(--fill-color);\n",
              "    }\n",
              "    60% {\n",
              "      border-color: transparent;\n",
              "      border-right-color: var(--fill-color);\n",
              "    }\n",
              "    80% {\n",
              "      border-color: transparent;\n",
              "      border-right-color: var(--fill-color);\n",
              "      border-bottom-color: var(--fill-color);\n",
              "    }\n",
              "    90% {\n",
              "      border-color: transparent;\n",
              "      border-bottom-color: var(--fill-color);\n",
              "    }\n",
              "  }\n",
              "</style>\n",
              "\n",
              "  <script>\n",
              "    async function quickchart(key) {\n",
              "      const quickchartButtonEl =\n",
              "        document.querySelector('#' + key + ' button');\n",
              "      quickchartButtonEl.disabled = true;  // To prevent multiple clicks.\n",
              "      quickchartButtonEl.classList.add('colab-df-spinner');\n",
              "      try {\n",
              "        const charts = await google.colab.kernel.invokeFunction(\n",
              "            'suggestCharts', [key], {});\n",
              "      } catch (error) {\n",
              "        console.error('Error during call to suggestCharts:', error);\n",
              "      }\n",
              "      quickchartButtonEl.classList.remove('colab-df-spinner');\n",
              "      quickchartButtonEl.classList.add('colab-df-quickchart-complete');\n",
              "    }\n",
              "    (() => {\n",
              "      let quickchartButtonEl =\n",
              "        document.querySelector('#df-4a315562-0371-48f2-a332-e26692c1cb4b button');\n",
              "      quickchartButtonEl.style.display =\n",
              "        google.colab.kernel.accessAllowed ? 'block' : 'none';\n",
              "    })();\n",
              "  </script>\n",
              "</div>\n",
              "    </div>\n",
              "  </div>\n"
            ],
            "application/vnd.google.colaboratory.intrinsic+json": {
              "type": "dataframe",
              "variable_name": "studentPerformance_df",
              "summary": "{\n  \"name\": \"studentPerformance_df\",\n  \"rows\": 28785,\n  \"fields\": [\n    {\n      \"column\": \"id_student\",\n      \"properties\": {\n        \"dtype\": \"number\",\n        \"std\": 550440,\n        \"min\": 3733,\n        \"max\": 2716795,\n        \"num_unique_values\": 28785,\n        \"samples\": [\n          367605,\n          632210,\n          444011\n        ],\n        \"semantic_type\": \"\",\n        \"description\": \"\"\n      }\n    },\n    {\n      \"column\": \"num_of_prev_attempts\",\n      \"properties\": {\n        \"dtype\": \"number\",\n        \"std\": 0.4395791544690422,\n        \"min\": 0.0,\n        \"max\": 6.0,\n        \"num_unique_values\": 12,\n        \"samples\": [\n          5.5,\n          5.0,\n          0.0\n        ],\n        \"semantic_type\": \"\",\n        \"description\": \"\"\n      }\n    },\n    {\n      \"column\": \"studied_credits\",\n      \"properties\": {\n        \"dtype\": \"number\",\n        \"std\": 40.15271260436282,\n        \"min\": 30.0,\n        \"max\": 655.0,\n        \"num_unique_values\": 73,\n        \"samples\": [\n          30.0,\n          260.0,\n          210.0\n        ],\n        \"semantic_type\": \"\",\n        \"description\": \"\"\n      }\n    }\n  ]\n}"
            }
          },
          "metadata": {},
          "execution_count": 29
        }
      ]
    },
    {
      "cell_type": "code",
      "source": [
        "# Here above if you notice, indices are random. Since we have selected it from df, we need to reset them\n",
        "studentPerformance_df = studentPerformance_df.reset_index()"
      ],
      "metadata": {
        "id": "tiLc7FVSjFtC"
      },
      "execution_count": 30,
      "outputs": []
    },
    {
      "cell_type": "code",
      "source": [
        "studentPerformance_df.head()"
      ],
      "metadata": {
        "id": "5YZ1Vr_AjL5C",
        "outputId": "20c189ff-5d1b-4dae-c836-d6a96a16ab8e",
        "colab": {
          "base_uri": "https://localhost:8080/",
          "height": 206
        }
      },
      "execution_count": 31,
      "outputs": [
        {
          "output_type": "execute_result",
          "data": {
            "text/plain": [
              "   id_student  num_of_prev_attempts  studied_credits\n",
              "0        3733                   0.0             60.0\n",
              "1        6516                   0.0             60.0\n",
              "2        8462                   0.5             75.0\n",
              "3       11391                   0.0            240.0\n",
              "4       23629                   2.0             60.0"
            ],
            "text/html": [
              "\n",
              "  <div id=\"df-3bab4432-7805-43cf-81aa-16cf16fb578c\" class=\"colab-df-container\">\n",
              "    <div>\n",
              "<style scoped>\n",
              "    .dataframe tbody tr th:only-of-type {\n",
              "        vertical-align: middle;\n",
              "    }\n",
              "\n",
              "    .dataframe tbody tr th {\n",
              "        vertical-align: top;\n",
              "    }\n",
              "\n",
              "    .dataframe thead th {\n",
              "        text-align: right;\n",
              "    }\n",
              "</style>\n",
              "<table border=\"1\" class=\"dataframe\">\n",
              "  <thead>\n",
              "    <tr style=\"text-align: right;\">\n",
              "      <th></th>\n",
              "      <th>id_student</th>\n",
              "      <th>num_of_prev_attempts</th>\n",
              "      <th>studied_credits</th>\n",
              "    </tr>\n",
              "  </thead>\n",
              "  <tbody>\n",
              "    <tr>\n",
              "      <th>0</th>\n",
              "      <td>3733</td>\n",
              "      <td>0.0</td>\n",
              "      <td>60.0</td>\n",
              "    </tr>\n",
              "    <tr>\n",
              "      <th>1</th>\n",
              "      <td>6516</td>\n",
              "      <td>0.0</td>\n",
              "      <td>60.0</td>\n",
              "    </tr>\n",
              "    <tr>\n",
              "      <th>2</th>\n",
              "      <td>8462</td>\n",
              "      <td>0.5</td>\n",
              "      <td>75.0</td>\n",
              "    </tr>\n",
              "    <tr>\n",
              "      <th>3</th>\n",
              "      <td>11391</td>\n",
              "      <td>0.0</td>\n",
              "      <td>240.0</td>\n",
              "    </tr>\n",
              "    <tr>\n",
              "      <th>4</th>\n",
              "      <td>23629</td>\n",
              "      <td>2.0</td>\n",
              "      <td>60.0</td>\n",
              "    </tr>\n",
              "  </tbody>\n",
              "</table>\n",
              "</div>\n",
              "    <div class=\"colab-df-buttons\">\n",
              "\n",
              "  <div class=\"colab-df-container\">\n",
              "    <button class=\"colab-df-convert\" onclick=\"convertToInteractive('df-3bab4432-7805-43cf-81aa-16cf16fb578c')\"\n",
              "            title=\"Convert this dataframe to an interactive table.\"\n",
              "            style=\"display:none;\">\n",
              "\n",
              "  <svg xmlns=\"http://www.w3.org/2000/svg\" height=\"24px\" viewBox=\"0 -960 960 960\">\n",
              "    <path d=\"M120-120v-720h720v720H120Zm60-500h600v-160H180v160Zm220 220h160v-160H400v160Zm0 220h160v-160H400v160ZM180-400h160v-160H180v160Zm440 0h160v-160H620v160ZM180-180h160v-160H180v160Zm440 0h160v-160H620v160Z\"/>\n",
              "  </svg>\n",
              "    </button>\n",
              "\n",
              "  <style>\n",
              "    .colab-df-container {\n",
              "      display:flex;\n",
              "      gap: 12px;\n",
              "    }\n",
              "\n",
              "    .colab-df-convert {\n",
              "      background-color: #E8F0FE;\n",
              "      border: none;\n",
              "      border-radius: 50%;\n",
              "      cursor: pointer;\n",
              "      display: none;\n",
              "      fill: #1967D2;\n",
              "      height: 32px;\n",
              "      padding: 0 0 0 0;\n",
              "      width: 32px;\n",
              "    }\n",
              "\n",
              "    .colab-df-convert:hover {\n",
              "      background-color: #E2EBFA;\n",
              "      box-shadow: 0px 1px 2px rgba(60, 64, 67, 0.3), 0px 1px 3px 1px rgba(60, 64, 67, 0.15);\n",
              "      fill: #174EA6;\n",
              "    }\n",
              "\n",
              "    .colab-df-buttons div {\n",
              "      margin-bottom: 4px;\n",
              "    }\n",
              "\n",
              "    [theme=dark] .colab-df-convert {\n",
              "      background-color: #3B4455;\n",
              "      fill: #D2E3FC;\n",
              "    }\n",
              "\n",
              "    [theme=dark] .colab-df-convert:hover {\n",
              "      background-color: #434B5C;\n",
              "      box-shadow: 0px 1px 3px 1px rgba(0, 0, 0, 0.15);\n",
              "      filter: drop-shadow(0px 1px 2px rgba(0, 0, 0, 0.3));\n",
              "      fill: #FFFFFF;\n",
              "    }\n",
              "  </style>\n",
              "\n",
              "    <script>\n",
              "      const buttonEl =\n",
              "        document.querySelector('#df-3bab4432-7805-43cf-81aa-16cf16fb578c button.colab-df-convert');\n",
              "      buttonEl.style.display =\n",
              "        google.colab.kernel.accessAllowed ? 'block' : 'none';\n",
              "\n",
              "      async function convertToInteractive(key) {\n",
              "        const element = document.querySelector('#df-3bab4432-7805-43cf-81aa-16cf16fb578c');\n",
              "        const dataTable =\n",
              "          await google.colab.kernel.invokeFunction('convertToInteractive',\n",
              "                                                    [key], {});\n",
              "        if (!dataTable) return;\n",
              "\n",
              "        const docLinkHtml = 'Like what you see? Visit the ' +\n",
              "          '<a target=\"_blank\" href=https://colab.research.google.com/notebooks/data_table.ipynb>data table notebook</a>'\n",
              "          + ' to learn more about interactive tables.';\n",
              "        element.innerHTML = '';\n",
              "        dataTable['output_type'] = 'display_data';\n",
              "        await google.colab.output.renderOutput(dataTable, element);\n",
              "        const docLink = document.createElement('div');\n",
              "        docLink.innerHTML = docLinkHtml;\n",
              "        element.appendChild(docLink);\n",
              "      }\n",
              "    </script>\n",
              "  </div>\n",
              "\n",
              "\n",
              "<div id=\"df-7e26bc39-f113-43b0-b8c3-0e636c4775c9\">\n",
              "  <button class=\"colab-df-quickchart\" onclick=\"quickchart('df-7e26bc39-f113-43b0-b8c3-0e636c4775c9')\"\n",
              "            title=\"Suggest charts\"\n",
              "            style=\"display:none;\">\n",
              "\n",
              "<svg xmlns=\"http://www.w3.org/2000/svg\" height=\"24px\"viewBox=\"0 0 24 24\"\n",
              "     width=\"24px\">\n",
              "    <g>\n",
              "        <path d=\"M19 3H5c-1.1 0-2 .9-2 2v14c0 1.1.9 2 2 2h14c1.1 0 2-.9 2-2V5c0-1.1-.9-2-2-2zM9 17H7v-7h2v7zm4 0h-2V7h2v10zm4 0h-2v-4h2v4z\"/>\n",
              "    </g>\n",
              "</svg>\n",
              "  </button>\n",
              "\n",
              "<style>\n",
              "  .colab-df-quickchart {\n",
              "      --bg-color: #E8F0FE;\n",
              "      --fill-color: #1967D2;\n",
              "      --hover-bg-color: #E2EBFA;\n",
              "      --hover-fill-color: #174EA6;\n",
              "      --disabled-fill-color: #AAA;\n",
              "      --disabled-bg-color: #DDD;\n",
              "  }\n",
              "\n",
              "  [theme=dark] .colab-df-quickchart {\n",
              "      --bg-color: #3B4455;\n",
              "      --fill-color: #D2E3FC;\n",
              "      --hover-bg-color: #434B5C;\n",
              "      --hover-fill-color: #FFFFFF;\n",
              "      --disabled-bg-color: #3B4455;\n",
              "      --disabled-fill-color: #666;\n",
              "  }\n",
              "\n",
              "  .colab-df-quickchart {\n",
              "    background-color: var(--bg-color);\n",
              "    border: none;\n",
              "    border-radius: 50%;\n",
              "    cursor: pointer;\n",
              "    display: none;\n",
              "    fill: var(--fill-color);\n",
              "    height: 32px;\n",
              "    padding: 0;\n",
              "    width: 32px;\n",
              "  }\n",
              "\n",
              "  .colab-df-quickchart:hover {\n",
              "    background-color: var(--hover-bg-color);\n",
              "    box-shadow: 0 1px 2px rgba(60, 64, 67, 0.3), 0 1px 3px 1px rgba(60, 64, 67, 0.15);\n",
              "    fill: var(--button-hover-fill-color);\n",
              "  }\n",
              "\n",
              "  .colab-df-quickchart-complete:disabled,\n",
              "  .colab-df-quickchart-complete:disabled:hover {\n",
              "    background-color: var(--disabled-bg-color);\n",
              "    fill: var(--disabled-fill-color);\n",
              "    box-shadow: none;\n",
              "  }\n",
              "\n",
              "  .colab-df-spinner {\n",
              "    border: 2px solid var(--fill-color);\n",
              "    border-color: transparent;\n",
              "    border-bottom-color: var(--fill-color);\n",
              "    animation:\n",
              "      spin 1s steps(1) infinite;\n",
              "  }\n",
              "\n",
              "  @keyframes spin {\n",
              "    0% {\n",
              "      border-color: transparent;\n",
              "      border-bottom-color: var(--fill-color);\n",
              "      border-left-color: var(--fill-color);\n",
              "    }\n",
              "    20% {\n",
              "      border-color: transparent;\n",
              "      border-left-color: var(--fill-color);\n",
              "      border-top-color: var(--fill-color);\n",
              "    }\n",
              "    30% {\n",
              "      border-color: transparent;\n",
              "      border-left-color: var(--fill-color);\n",
              "      border-top-color: var(--fill-color);\n",
              "      border-right-color: var(--fill-color);\n",
              "    }\n",
              "    40% {\n",
              "      border-color: transparent;\n",
              "      border-right-color: var(--fill-color);\n",
              "      border-top-color: var(--fill-color);\n",
              "    }\n",
              "    60% {\n",
              "      border-color: transparent;\n",
              "      border-right-color: var(--fill-color);\n",
              "    }\n",
              "    80% {\n",
              "      border-color: transparent;\n",
              "      border-right-color: var(--fill-color);\n",
              "      border-bottom-color: var(--fill-color);\n",
              "    }\n",
              "    90% {\n",
              "      border-color: transparent;\n",
              "      border-bottom-color: var(--fill-color);\n",
              "    }\n",
              "  }\n",
              "</style>\n",
              "\n",
              "  <script>\n",
              "    async function quickchart(key) {\n",
              "      const quickchartButtonEl =\n",
              "        document.querySelector('#' + key + ' button');\n",
              "      quickchartButtonEl.disabled = true;  // To prevent multiple clicks.\n",
              "      quickchartButtonEl.classList.add('colab-df-spinner');\n",
              "      try {\n",
              "        const charts = await google.colab.kernel.invokeFunction(\n",
              "            'suggestCharts', [key], {});\n",
              "      } catch (error) {\n",
              "        console.error('Error during call to suggestCharts:', error);\n",
              "      }\n",
              "      quickchartButtonEl.classList.remove('colab-df-spinner');\n",
              "      quickchartButtonEl.classList.add('colab-df-quickchart-complete');\n",
              "    }\n",
              "    (() => {\n",
              "      let quickchartButtonEl =\n",
              "        document.querySelector('#df-7e26bc39-f113-43b0-b8c3-0e636c4775c9 button');\n",
              "      quickchartButtonEl.style.display =\n",
              "        google.colab.kernel.accessAllowed ? 'block' : 'none';\n",
              "    })();\n",
              "  </script>\n",
              "</div>\n",
              "    </div>\n",
              "  </div>\n"
            ],
            "application/vnd.google.colaboratory.intrinsic+json": {
              "type": "dataframe",
              "variable_name": "studentPerformance_df",
              "summary": "{\n  \"name\": \"studentPerformance_df\",\n  \"rows\": 28785,\n  \"fields\": [\n    {\n      \"column\": \"id_student\",\n      \"properties\": {\n        \"dtype\": \"number\",\n        \"std\": 550440,\n        \"min\": 3733,\n        \"max\": 2716795,\n        \"num_unique_values\": 28785,\n        \"samples\": [\n          367605,\n          632210,\n          444011\n        ],\n        \"semantic_type\": \"\",\n        \"description\": \"\"\n      }\n    },\n    {\n      \"column\": \"num_of_prev_attempts\",\n      \"properties\": {\n        \"dtype\": \"number\",\n        \"std\": 0.4395791544690422,\n        \"min\": 0.0,\n        \"max\": 6.0,\n        \"num_unique_values\": 12,\n        \"samples\": [\n          5.5,\n          5.0,\n          0.0\n        ],\n        \"semantic_type\": \"\",\n        \"description\": \"\"\n      }\n    },\n    {\n      \"column\": \"studied_credits\",\n      \"properties\": {\n        \"dtype\": \"number\",\n        \"std\": 40.15271260436282,\n        \"min\": 30.0,\n        \"max\": 655.0,\n        \"num_unique_values\": 73,\n        \"samples\": [\n          30.0,\n          260.0,\n          210.0\n        ],\n        \"semantic_type\": \"\",\n        \"description\": \"\"\n      }\n    }\n  ]\n}"
            }
          },
          "metadata": {},
          "execution_count": 31
        }
      ]
    },
    {
      "cell_type": "code",
      "source": [
        "studentProfile_df = studentInfo_df[['id_student', 'gender', 'region', 'highest_education', 'imd_band', 'age_band']].drop_duplicates()\n",
        "show_basic_info(studentProfile_df)"
      ],
      "metadata": {
        "id": "JbOxTM1BjRWK",
        "outputId": "1c82010f-2d43-450d-b164-a384ba35e4bb",
        "colab": {
          "base_uri": "https://localhost:8080/"
        }
      },
      "execution_count": 32,
      "outputs": [
        {
          "output_type": "stream",
          "name": "stdout",
          "text": [
            "========================================================================================================\n",
            "HEAD:\n",
            "   id_student gender                region      highest_education imd_band  \\\n",
            "0       11391      M   East Anglian Region       HE Qualification  90-100%   \n",
            "1       28400      F              Scotland       HE Qualification   20-30%   \n",
            "2       30268      F  North Western Region  A Level or Equivalent   30-40%   \n",
            "\n",
            "  age_band  \n",
            "0     55<=  \n",
            "1    35-55  \n",
            "2    35-55  \n",
            "--------------------------------------------------------------------------------------------------------\n",
            "SHAPE:\n",
            "(28857, 6)\n",
            "--------------------------------------------------------------------------------------------------------\n",
            "INFO:\n",
            "<class 'pandas.core.frame.DataFrame'>\n",
            "Index: 28857 entries, 0 to 32592\n",
            "Data columns (total 6 columns):\n",
            " #   Column             Non-Null Count  Dtype \n",
            "---  ------             --------------  ----- \n",
            " 0   id_student         28857 non-null  int64 \n",
            " 1   gender             28857 non-null  object\n",
            " 2   region             28857 non-null  object\n",
            " 3   highest_education  28857 non-null  object\n",
            " 4   imd_band           28857 non-null  object\n",
            " 5   age_band           28857 non-null  object\n",
            "dtypes: int64(1), object(5)\n",
            "memory usage: 1.5+ MB\n",
            "None\n",
            "--------------------------------------------------------------------------------------------------------\n",
            "DESCRIBE:\n",
            "         id_student\n",
            "count  2.885700e+04\n",
            "mean   7.078341e+05\n",
            "std    5.509606e+05\n",
            "min    3.733000e+03\n",
            "25%    5.081000e+05\n",
            "50%    5.905550e+05\n",
            "75%    6.464810e+05\n",
            "max    2.716795e+06\n",
            "--------------------------------------------------------------------------------------------------------\n",
            "========================================================================================================\n"
          ]
        }
      ]
    },
    {
      "cell_type": "code",
      "source": [
        "sns.countplot(studentInfo_df.code_module)\n",
        "#course BBB and FFF are very famous"
      ],
      "metadata": {
        "id": "WMMO71j1jl75",
        "outputId": "b2de15c8-d4b1-42a7-edb1-8d55f6ce05c7",
        "colab": {
          "base_uri": "https://localhost:8080/",
          "height": 466
        }
      },
      "execution_count": 33,
      "outputs": [
        {
          "output_type": "execute_result",
          "data": {
            "text/plain": [
              "<Axes: xlabel='count', ylabel='code_module'>"
            ]
          },
          "metadata": {},
          "execution_count": 33
        },
        {
          "output_type": "display_data",
          "data": {
            "text/plain": [
              "<Figure size 640x480 with 1 Axes>"
            ],
            "image/png": "[encoded data removed]"
          },
          "metadata": {}
        }
      ]
    },
    {
      "cell_type": "code",
      "source": [
        "pd.crosstab(studentInfo_df.code_module, studentInfo_df.code_presentation).plot.barh(stacked = True);\n",
        "#'B' is for courses offered in Feb and 'J' is for courses offered in Oct.\n",
        "#course 'CCC' is something introduced in 2014 only.\n",
        "#ourse 'AAA' has a very low student count as compared to other courses"
      ],
      "metadata": {
        "id": "ZY1WXUiwjr2i",
        "outputId": "2405b1c8-02a6-4453-d8f2-9938835ab7c5",
        "colab": {
          "base_uri": "https://localhost:8080/",
          "height": 430
        }
      },
      "execution_count": 34,
      "outputs": [
        {
          "output_type": "display_data",
          "data": {
            "text/plain": [
              "<Figure size 640x480 with 1 Axes>"
            ],
            "image/png": "[encoded data removed]"
          },
          "metadata": {}
        }
      ]
    },
    {
      "cell_type": "code",
      "source": [
        "studentInfo_df.head(2)"
      ],
      "metadata": {
        "id": "HLJk_XOtj4GZ",
        "outputId": "f56d5b79-8c84-46a9-b70f-af236631d298",
        "colab": {
          "base_uri": "https://localhost:8080/",
          "height": 167
        }
      },
      "execution_count": 35,
      "outputs": [
        {
          "output_type": "execute_result",
          "data": {
            "text/plain": [
              "  code_module code_presentation  id_student gender               region  \\\n",
              "0         AAA             2013J       11391      M  East Anglian Region   \n",
              "1         AAA             2013J       28400      F             Scotland   \n",
              "\n",
              "  highest_education imd_band age_band  num_of_prev_attempts  studied_credits  \\\n",
              "0  HE Qualification  90-100%     55<=                     0              240   \n",
              "1  HE Qualification   20-30%    35-55                     0               60   \n",
              "\n",
              "  disability final_result  \n",
              "0          N         Pass  \n",
              "1          N         Pass  "
            ],
            "text/html": [
              "\n",
              "  <div id=\"df-592b793d-d0a9-47b3-9d81-19b29436b092\" class=\"colab-df-container\">\n",
              "    <div>\n",
              "<style scoped>\n",
              "    .dataframe tbody tr th:only-of-type {\n",
              "        vertical-align: middle;\n",
              "    }\n",
              "\n",
              "    .dataframe tbody tr th {\n",
              "        vertical-align: top;\n",
              "    }\n",
              "\n",
              "    .dataframe thead th {\n",
              "        text-align: right;\n",
              "    }\n",
              "</style>\n",
              "<table border=\"1\" class=\"dataframe\">\n",
              "  <thead>\n",
              "    <tr style=\"text-align: right;\">\n",
              "      <th></th>\n",
              "      <th>code_module</th>\n",
              "      <th>code_presentation</th>\n",
              "      <th>id_student</th>\n",
              "      <th>gender</th>\n",
              "      <th>region</th>\n",
              "      <th>highest_education</th>\n",
              "      <th>imd_band</th>\n",
              "      <th>age_band</th>\n",
              "      <th>num_of_prev_attempts</th>\n",
              "      <th>studied_credits</th>\n",
              "      <th>disability</th>\n",
              "      <th>final_result</th>\n",
              "    </tr>\n",
              "  </thead>\n",
              "  <tbody>\n",
              "    <tr>\n",
              "      <th>0</th>\n",
              "      <td>AAA</td>\n",
              "      <td>2013J</td>\n",
              "      <td>11391</td>\n",
              "      <td>M</td>\n",
              "      <td>East Anglian Region</td>\n",
              "      <td>HE Qualification</td>\n",
              "      <td>90-100%</td>\n",
              "      <td>55&lt;=</td>\n",
              "      <td>0</td>\n",
              "      <td>240</td>\n",
              "      <td>N</td>\n",
              "      <td>Pass</td>\n",
              "    </tr>\n",
              "    <tr>\n",
              "      <th>1</th>\n",
              "      <td>AAA</td>\n",
              "      <td>2013J</td>\n",
              "      <td>28400</td>\n",
              "      <td>F</td>\n",
              "      <td>Scotland</td>\n",
              "      <td>HE Qualification</td>\n",
              "      <td>20-30%</td>\n",
              "      <td>35-55</td>\n",
              "      <td>0</td>\n",
              "      <td>60</td>\n",
              "      <td>N</td>\n",
              "      <td>Pass</td>\n",
              "    </tr>\n",
              "  </tbody>\n",
              "</table>\n",
              "</div>\n",
              "    <div class=\"colab-df-buttons\">\n",
              "\n",
              "  <div class=\"colab-df-container\">\n",
              "    <button class=\"colab-df-convert\" onclick=\"convertToInteractive('df-592b793d-d0a9-47b3-9d81-19b29436b092')\"\n",
              "            title=\"Convert this dataframe to an interactive table.\"\n",
              "            style=\"display:none;\">\n",
              "\n",
              "  <svg xmlns=\"http://www.w3.org/2000/svg\" height=\"24px\" viewBox=\"0 -960 960 960\">\n",
              "    <path d=\"M120-120v-720h720v720H120Zm60-500h600v-160H180v160Zm220 220h160v-160H400v160Zm0 220h160v-160H400v160ZM180-400h160v-160H180v160Zm440 0h160v-160H620v160ZM180-180h160v-160H180v160Zm440 0h160v-160H620v160Z\"/>\n",
              "  </svg>\n",
              "    </button>\n",
              "\n",
              "  <style>\n",
              "    .colab-df-container {\n",
              "      display:flex;\n",
              "      gap: 12px;\n",
              "    }\n",
              "\n",
              "    .colab-df-convert {\n",
              "      background-color: #E8F0FE;\n",
              "      border: none;\n",
              "      border-radius: 50%;\n",
              "      cursor: pointer;\n",
              "      display: none;\n",
              "      fill: #1967D2;\n",
              "      height: 32px;\n",
              "      padding: 0 0 0 0;\n",
              "      width: 32px;\n",
              "    }\n",
              "\n",
              "    .colab-df-convert:hover {\n",
              "      background-color: #E2EBFA;\n",
              "      box-shadow: 0px 1px 2px rgba(60, 64, 67, 0.3), 0px 1px 3px 1px rgba(60, 64, 67, 0.15);\n",
              "      fill: #174EA6;\n",
              "    }\n",
              "\n",
              "    .colab-df-buttons div {\n",
              "      margin-bottom: 4px;\n",
              "    }\n",
              "\n",
              "    [theme=dark] .colab-df-convert {\n",
              "      background-color: #3B4455;\n",
              "      fill: #D2E3FC;\n",
              "    }\n",
              "\n",
              "    [theme=dark] .colab-df-convert:hover {\n",
              "      background-color: #434B5C;\n",
              "      box-shadow: 0px 1px 3px 1px rgba(0, 0, 0, 0.15);\n",
              "      filter: drop-shadow(0px 1px 2px rgba(0, 0, 0, 0.3));\n",
              "      fill: #FFFFFF;\n",
              "    }\n",
              "  </style>\n",
              "\n",
              "    <script>\n",
              "      const buttonEl =\n",
              "        document.querySelector('#df-592b793d-d0a9-47b3-9d81-19b29436b092 button.colab-df-convert');\n",
              "      buttonEl.style.display =\n",
              "        google.colab.kernel.accessAllowed ? 'block' : 'none';\n",
              "\n",
              "      async function convertToInteractive(key) {\n",
              "        const element = document.querySelector('#df-592b793d-d0a9-47b3-9d81-19b29436b092');\n",
              "        const dataTable =\n",
              "          await google.colab.kernel.invokeFunction('convertToInteractive',\n",
              "                                                    [key], {});\n",
              "        if (!dataTable) return;\n",
              "\n",
              "        const docLinkHtml = 'Like what you see? Visit the ' +\n",
              "          '<a target=\"_blank\" href=https://colab.research.google.com/notebooks/data_table.ipynb>data table notebook</a>'\n",
              "          + ' to learn more about interactive tables.';\n",
              "        element.innerHTML = '';\n",
              "        dataTable['output_type'] = 'display_data';\n",
              "        await google.colab.output.renderOutput(dataTable, element);\n",
              "        const docLink = document.createElement('div');\n",
              "        docLink.innerHTML = docLinkHtml;\n",
              "        element.appendChild(docLink);\n",
              "      }\n",
              "    </script>\n",
              "  </div>\n",
              "\n",
              "\n",
              "<div id=\"df-4e69cc0a-ffac-4797-86fe-ac14d200e462\">\n",
              "  <button class=\"colab-df-quickchart\" onclick=\"quickchart('df-4e69cc0a-ffac-4797-86fe-ac14d200e462')\"\n",
              "            title=\"Suggest charts\"\n",
              "            style=\"display:none;\">\n",
              "\n",
              "<svg xmlns=\"http://www.w3.org/2000/svg\" height=\"24px\"viewBox=\"0 0 24 24\"\n",
              "     width=\"24px\">\n",
              "    <g>\n",
              "        <path d=\"M19 3H5c-1.1 0-2 .9-2 2v14c0 1.1.9 2 2 2h14c1.1 0 2-.9 2-2V5c0-1.1-.9-2-2-2zM9 17H7v-7h2v7zm4 0h-2V7h2v10zm4 0h-2v-4h2v4z\"/>\n",
              "    </g>\n",
              "</svg>\n",
              "  </button>\n",
              "\n",
              "<style>\n",
              "  .colab-df-quickchart {\n",
              "      --bg-color: #E8F0FE;\n",
              "      --fill-color: #1967D2;\n",
              "      --hover-bg-color: #E2EBFA;\n",
              "      --hover-fill-color: #174EA6;\n",
              "      --disabled-fill-color: #AAA;\n",
              "      --disabled-bg-color: #DDD;\n",
              "  }\n",
              "\n",
              "  [theme=dark] .colab-df-quickchart {\n",
              "      --bg-color: #3B4455;\n",
              "      --fill-color: #D2E3FC;\n",
              "      --hover-bg-color: #434B5C;\n",
              "      --hover-fill-color: #FFFFFF;\n",
              "      --disabled-bg-color: #3B4455;\n",
              "      --disabled-fill-color: #666;\n",
              "  }\n",
              "\n",
              "  .colab-df-quickchart {\n",
              "    background-color: var(--bg-color);\n",
              "    border: none;\n",
              "    border-radius: 50%;\n",
              "    cursor: pointer;\n",
              "    display: none;\n",
              "    fill: var(--fill-color);\n",
              "    height: 32px;\n",
              "    padding: 0;\n",
              "    width: 32px;\n",
              "  }\n",
              "\n",
              "  .colab-df-quickchart:hover {\n",
              "    background-color: var(--hover-bg-color);\n",
              "    box-shadow: 0 1px 2px rgba(60, 64, 67, 0.3), 0 1px 3px 1px rgba(60, 64, 67, 0.15);\n",
              "    fill: var(--button-hover-fill-color);\n",
              "  }\n",
              "\n",
              "  .colab-df-quickchart-complete:disabled,\n",
              "  .colab-df-quickchart-complete:disabled:hover {\n",
              "    background-color: var(--disabled-bg-color);\n",
              "    fill: var(--disabled-fill-color);\n",
              "    box-shadow: none;\n",
              "  }\n",
              "\n",
              "  .colab-df-spinner {\n",
              "    border: 2px solid var(--fill-color);\n",
              "    border-color: transparent;\n",
              "    border-bottom-color: var(--fill-color);\n",
              "    animation:\n",
              "      spin 1s steps(1) infinite;\n",
              "  }\n",
              "\n",
              "  @keyframes spin {\n",
              "    0% {\n",
              "      border-color: transparent;\n",
              "      border-bottom-color: var(--fill-color);\n",
              "      border-left-color: var(--fill-color);\n",
              "    }\n",
              "    20% {\n",
              "      border-color: transparent;\n",
              "      border-left-color: var(--fill-color);\n",
              "      border-top-color: var(--fill-color);\n",
              "    }\n",
              "    30% {\n",
              "      border-color: transparent;\n",
              "      border-left-color: var(--fill-color);\n",
              "      border-top-color: var(--fill-color);\n",
              "      border-right-color: var(--fill-color);\n",
              "    }\n",
              "    40% {\n",
              "      border-color: transparent;\n",
              "      border-right-color: var(--fill-color);\n",
              "      border-top-color: var(--fill-color);\n",
              "    }\n",
              "    60% {\n",
              "      border-color: transparent;\n",
              "      border-right-color: var(--fill-color);\n",
              "    }\n",
              "    80% {\n",
              "      border-color: transparent;\n",
              "      border-right-color: var(--fill-color);\n",
              "      border-bottom-color: var(--fill-color);\n",
              "    }\n",
              "    90% {\n",
              "      border-color: transparent;\n",
              "      border-bottom-color: var(--fill-color);\n",
              "    }\n",
              "  }\n",
              "</style>\n",
              "\n",
              "  <script>\n",
              "    async function quickchart(key) {\n",
              "      const quickchartButtonEl =\n",
              "        document.querySelector('#' + key + ' button');\n",
              "      quickchartButtonEl.disabled = true;  // To prevent multiple clicks.\n",
              "      quickchartButtonEl.classList.add('colab-df-spinner');\n",
              "      try {\n",
              "        const charts = await google.colab.kernel.invokeFunction(\n",
              "            'suggestCharts', [key], {});\n",
              "      } catch (error) {\n",
              "        console.error('Error during call to suggestCharts:', error);\n",
              "      }\n",
              "      quickchartButtonEl.classList.remove('colab-df-spinner');\n",
              "      quickchartButtonEl.classList.add('colab-df-quickchart-complete');\n",
              "    }\n",
              "    (() => {\n",
              "      let quickchartButtonEl =\n",
              "        document.querySelector('#df-4e69cc0a-ffac-4797-86fe-ac14d200e462 button');\n",
              "      quickchartButtonEl.style.display =\n",
              "        google.colab.kernel.accessAllowed ? 'block' : 'none';\n",
              "    })();\n",
              "  </script>\n",
              "</div>\n",
              "    </div>\n",
              "  </div>\n"
            ],
            "application/vnd.google.colaboratory.intrinsic+json": {
              "type": "dataframe",
              "variable_name": "studentInfo_df",
              "summary": "{\n  \"name\": \"studentInfo_df\",\n  \"rows\": 32593,\n  \"fields\": [\n    {\n      \"column\": \"code_module\",\n      \"properties\": {\n        \"dtype\": \"category\",\n        \"num_unique_values\": 7,\n        \"samples\": [\n          \"AAA\",\n          \"BBB\",\n          \"FFF\"\n        ],\n        \"semantic_type\": \"\",\n        \"description\": \"\"\n      }\n    },\n    {\n      \"column\": \"code_presentation\",\n      \"properties\": {\n        \"dtype\": \"category\",\n        \"num_unique_values\": 4,\n        \"samples\": [\n          \"2014J\",\n          \"2014B\",\n          \"2013J\"\n        ],\n        \"semantic_type\": \"\",\n        \"description\": \"\"\n      }\n    },\n    {\n      \"column\": \"id_student\",\n      \"properties\": {\n        \"dtype\": \"number\",\n        \"std\": 549167,\n        \"min\": 3733,\n        \"max\": 2716795,\n        \"num_unique_values\": 28785,\n        \"samples\": [\n          582578,\n          524984,\n          606634\n        ],\n        \"semantic_type\": \"\",\n        \"description\": \"\"\n      }\n    },\n    {\n      \"column\": \"gender\",\n      \"properties\": {\n        \"dtype\": \"category\",\n        \"num_unique_values\": 2,\n        \"samples\": [\n          \"F\",\n          \"M\"\n        ],\n        \"semantic_type\": \"\",\n        \"description\": \"\"\n      }\n    },\n    {\n      \"column\": \"region\",\n      \"properties\": {\n        \"dtype\": \"category\",\n        \"num_unique_values\": 13,\n        \"samples\": [\n          \"Yorkshire Region\",\n          \"South West Region\"\n        ],\n        \"semantic_type\": \"\",\n        \"description\": \"\"\n      }\n    },\n    {\n      \"column\": \"highest_education\",\n      \"properties\": {\n        \"dtype\": \"category\",\n        \"num_unique_values\": 5,\n        \"samples\": [\n          \"A Level or Equivalent\",\n          \"No Formal quals\"\n        ],\n        \"semantic_type\": \"\",\n        \"description\": \"\"\n      }\n    },\n    {\n      \"column\": \"imd_band\",\n      \"properties\": {\n        \"dtype\": \"category\",\n        \"num_unique_values\": 10,\n        \"samples\": [\n          \"10-20\",\n          \"20-30%\"\n        ],\n        \"semantic_type\": \"\",\n        \"description\": \"\"\n      }\n    },\n    {\n      \"column\": \"age_band\",\n      \"properties\": {\n        \"dtype\": \"category\",\n        \"num_unique_values\": 3,\n        \"samples\": [\n          \"55<=\",\n          \"35-55\"\n        ],\n        \"semantic_type\": \"\",\n        \"description\": \"\"\n      }\n    },\n    {\n      \"column\": \"num_of_prev_attempts\",\n      \"properties\": {\n        \"dtype\": \"number\",\n        \"std\": 0,\n        \"min\": 0,\n        \"max\": 6,\n        \"num_unique_values\": 7,\n        \"samples\": [\n          0,\n          1\n        ],\n        \"semantic_type\": \"\",\n        \"description\": \"\"\n      }\n    },\n    {\n      \"column\": \"studied_credits\",\n      \"properties\": {\n        \"dtype\": \"number\",\n        \"std\": 41,\n        \"min\": 30,\n        \"max\": 655,\n        \"num_unique_values\": 61,\n        \"samples\": [\n          240,\n          180\n        ],\n        \"semantic_type\": \"\",\n        \"description\": \"\"\n      }\n    },\n    {\n      \"column\": \"disability\",\n      \"properties\": {\n        \"dtype\": \"category\",\n        \"num_unique_values\": 2,\n        \"samples\": [\n          \"Y\",\n          \"N\"\n        ],\n        \"semantic_type\": \"\",\n        \"description\": \"\"\n      }\n    },\n    {\n      \"column\": \"final_result\",\n      \"properties\": {\n        \"dtype\": \"category\",\n        \"num_unique_values\": 4,\n        \"samples\": [\n          \"Withdrawn\",\n          \"Distinction\"\n        ],\n        \"semantic_type\": \"\",\n        \"description\": \"\"\n      }\n    }\n  ]\n}"
            }
          },
          "metadata": {},
          "execution_count": 35
        }
      ]
    },
    {
      "cell_type": "code",
      "source": [
        "sns.pairplot(data=studentInfo_df[[\"code_module\",\"num_of_prev_attempts\"]],hue=\"code_module\", dropna=True, size=5);"
      ],
      "metadata": {
        "id": "b-PK2vcVj6Up",
        "outputId": "9b4a2c1d-8203-4526-d505-aaf5a93c3522",
        "colab": {
          "base_uri": "https://localhost:8080/",
          "height": 568
        }
      },
      "execution_count": 36,
      "outputs": [
        {
          "output_type": "stream",
          "name": "stderr",
          "text": [
            "/usr/local/lib/python3.10/dist-packages/seaborn/axisgrid.py:2100: UserWarning: The `size` parameter has been renamed to `height`; please update your code.\n",
            "  warnings.warn(msg, UserWarning)\n"
          ]
        },
        {
          "output_type": "display_data",
          "data": {
            "text/plain": [
              "<Figure size 603.611x500 with 2 Axes>"
            ],
            "image/png": "[encoded data removed]"
          },
          "metadata": {}
        }
      ]
    },
    {
      "cell_type": "code",
      "source": [
        "#we can merges two DataFrames on specified columns, selects relevant columns, groups by student ID, computes the median module presentation length for each student, and resets the DataFrame index. The resulting DataFrame, studentModuleLengths_df, contains each student ID (id_student) and their median module presentation length (module_presentation_length)\n",
        "\n",
        "studentModuleLengths_df = studentInfo_df.merge(courses_df, on = ['code_module', 'code_presentation'], how='left')\n",
        "studentModuleLengths_df = studentModuleLengths_df[['id_student', 'module_presentation_length']].groupby('id_student').median()\n",
        "studentModuleLengths_df = studentModuleLengths_df.reset_index()"
      ],
      "metadata": {
        "id": "NUOY8KtLj_9K"
      },
      "execution_count": 37,
      "outputs": []
    },
    {
      "cell_type": "code",
      "source": [
        "show_basic_info(studentModuleLengths_df)"
      ],
      "metadata": {
        "id": "L9wiKAskkEFh",
        "outputId": "aa0f981c-7d53-432c-db4d-323a51003f2e",
        "colab": {
          "base_uri": "https://localhost:8080/"
        }
      },
      "execution_count": 38,
      "outputs": [
        {
          "output_type": "stream",
          "name": "stdout",
          "text": [
            "========================================================================================================\n",
            "HEAD:\n",
            "   id_student  module_presentation_length\n",
            "0        3733                       261.0\n",
            "1        6516                       269.0\n",
            "2        8462                       261.5\n",
            "--------------------------------------------------------------------------------------------------------\n",
            "SHAPE:\n",
            "(28785, 2)\n",
            "--------------------------------------------------------------------------------------------------------\n",
            "INFO:\n",
            "<class 'pandas.core.frame.DataFrame'>\n",
            "RangeIndex: 28785 entries, 0 to 28784\n",
            "Data columns (total 2 columns):\n",
            " #   Column                      Non-Null Count  Dtype  \n",
            "---  ------                      --------------  -----  \n",
            " 0   id_student                  28785 non-null  int64  \n",
            " 1   module_presentation_length  28785 non-null  float64\n",
            "dtypes: float64(1), int64(1)\n",
            "memory usage: 449.9 KB\n",
            "None\n",
            "--------------------------------------------------------------------------------------------------------\n",
            "DESCRIBE:\n",
            "         id_student  module_presentation_length\n",
            "count  2.878500e+04                28785.000000\n",
            "mean   7.074447e+05                  255.990446\n",
            "std    5.504403e+05                   12.843428\n",
            "min    3.733000e+03                  234.000000\n",
            "25%    5.081030e+05                  241.000000\n",
            "50%    5.906260e+05                  262.000000\n",
            "75%    6.464820e+05                  268.000000\n",
            "max    2.716795e+06                  269.000000\n",
            "--------------------------------------------------------------------------------------------------------\n",
            "========================================================================================================\n"
          ]
        }
      ]
    },
    {
      "cell_type": "code",
      "source": [
        "#For easy simplification\n",
        "#unregistered will be 1 if the student has unregistered and 0 otherwise.\n",
        "#registered will be 1 if the student is currently registered and 0 otherwise.\n",
        "studentRegistration_df['unregistered'] = np.where(pd.isnull(studentRegistration_df.date_unregistration), 0, 1)\n",
        "studentRegistration_df['registered'] = np.where(pd.isnull(studentRegistration_df.date_unregistration), 0, 1)"
      ],
      "metadata": {
        "id": "qlrNfbCDkGWh"
      },
      "execution_count": 39,
      "outputs": []
    },
    {
      "cell_type": "code",
      "source": [
        "#verage number of registration and unregistration days for each student by converting dates to integers and grouping by id_student. The result is a DataFrame with each student's ID and their mean registration and unregistration days\n",
        "studentRegistration_df['register_days'] = (np.where(pd.isnull(studentRegistration_df.date_registration), 0,\n",
        "                                          studentRegistration_df.date_registration)).astype(int)\n",
        "studentRegistration_df['unregister_days'] = (np.where(pd.isnull(studentRegistration_df.date_unregistration), 0,\n",
        "                                            studentRegistration_df.date_unregistration)).astype(int)\n",
        "studentRegDays_df = studentRegistration_df[['id_student', 'register_days',\n",
        "                                   'unregister_days']].groupby(['id_student']).mean()\n",
        "studentRegDays_df = studentRegDays_df.reset_index()\n",
        "studentRegDays_df.head()"
      ],
      "metadata": {
        "id": "OheZrD8RkIlJ",
        "outputId": "cea191f1-decc-442d-8d67-427be016a437",
        "colab": {
          "base_uri": "https://localhost:8080/",
          "height": 206
        }
      },
      "execution_count": 40,
      "outputs": [
        {
          "output_type": "execute_result",
          "data": {
            "text/plain": [
              "   id_student  register_days  unregister_days\n",
              "0        3733          -68.0             -8.0\n",
              "1        6516          -52.0             12.0\n",
              "2        8462          -87.5             68.5\n",
              "3       11391         -159.0             12.0\n",
              "4       23629          -47.0             12.0"
            ],
            "text/html": [
              "\n",
              "  <div id=\"df-12ab7647-f273-4d31-b864-bec4b5382b49\" class=\"colab-df-container\">\n",
              "    <div>\n",
              "<style scoped>\n",
              "    .dataframe tbody tr th:only-of-type {\n",
              "        vertical-align: middle;\n",
              "    }\n",
              "\n",
              "    .dataframe tbody tr th {\n",
              "        vertical-align: top;\n",
              "    }\n",
              "\n",
              "    .dataframe thead th {\n",
              "        text-align: right;\n",
              "    }\n",
              "</style>\n",
              "<table border=\"1\" class=\"dataframe\">\n",
              "  <thead>\n",
              "    <tr style=\"text-align: right;\">\n",
              "      <th></th>\n",
              "      <th>id_student</th>\n",
              "      <th>register_days</th>\n",
              "      <th>unregister_days</th>\n",
              "    </tr>\n",
              "  </thead>\n",
              "  <tbody>\n",
              "    <tr>\n",
              "      <th>0</th>\n",
              "      <td>3733</td>\n",
              "      <td>-68.0</td>\n",
              "      <td>-8.0</td>\n",
              "    </tr>\n",
              "    <tr>\n",
              "      <th>1</th>\n",
              "      <td>6516</td>\n",
              "      <td>-52.0</td>\n",
              "      <td>12.0</td>\n",
              "    </tr>\n",
              "    <tr>\n",
              "      <th>2</th>\n",
              "      <td>8462</td>\n",
              "      <td>-87.5</td>\n",
              "      <td>68.5</td>\n",
              "    </tr>\n",
              "    <tr>\n",
              "      <th>3</th>\n",
              "      <td>11391</td>\n",
              "      <td>-159.0</td>\n",
              "      <td>12.0</td>\n",
              "    </tr>\n",
              "    <tr>\n",
              "      <th>4</th>\n",
              "      <td>23629</td>\n",
              "      <td>-47.0</td>\n",
              "      <td>12.0</td>\n",
              "    </tr>\n",
              "  </tbody>\n",
              "</table>\n",
              "</div>\n",
              "    <div class=\"colab-df-buttons\">\n",
              "\n",
              "  <div class=\"colab-df-container\">\n",
              "    <button class=\"colab-df-convert\" onclick=\"convertToInteractive('df-12ab7647-f273-4d31-b864-bec4b5382b49')\"\n",
              "            title=\"Convert this dataframe to an interactive table.\"\n",
              "            style=\"display:none;\">\n",
              "\n",
              "  <svg xmlns=\"http://www.w3.org/2000/svg\" height=\"24px\" viewBox=\"0 -960 960 960\">\n",
              "    <path d=\"M120-120v-720h720v720H120Zm60-500h600v-160H180v160Zm220 220h160v-160H400v160Zm0 220h160v-160H400v160ZM180-400h160v-160H180v160Zm440 0h160v-160H620v160ZM180-180h160v-160H180v160Zm440 0h160v-160H620v160Z\"/>\n",
              "  </svg>\n",
              "    </button>\n",
              "\n",
              "  <style>\n",
              "    .colab-df-container {\n",
              "      display:flex;\n",
              "      gap: 12px;\n",
              "    }\n",
              "\n",
              "    .colab-df-convert {\n",
              "      background-color: #E8F0FE;\n",
              "      border: none;\n",
              "      border-radius: 50%;\n",
              "      cursor: pointer;\n",
              "      display: none;\n",
              "      fill: #1967D2;\n",
              "      height: 32px;\n",
              "      padding: 0 0 0 0;\n",
              "      width: 32px;\n",
              "    }\n",
              "\n",
              "    .colab-df-convert:hover {\n",
              "      background-color: #E2EBFA;\n",
              "      box-shadow: 0px 1px 2px rgba(60, 64, 67, 0.3), 0px 1px 3px 1px rgba(60, 64, 67, 0.15);\n",
              "      fill: #174EA6;\n",
              "    }\n",
              "\n",
              "    .colab-df-buttons div {\n",
              "      margin-bottom: 4px;\n",
              "    }\n",
              "\n",
              "    [theme=dark] .colab-df-convert {\n",
              "      background-color: #3B4455;\n",
              "      fill: #D2E3FC;\n",
              "    }\n",
              "\n",
              "    [theme=dark] .colab-df-convert:hover {\n",
              "      background-color: #434B5C;\n",
              "      box-shadow: 0px 1px 3px 1px rgba(0, 0, 0, 0.15);\n",
              "      filter: drop-shadow(0px 1px 2px rgba(0, 0, 0, 0.3));\n",
              "      fill: #FFFFFF;\n",
              "    }\n",
              "  </style>\n",
              "\n",
              "    <script>\n",
              "      const buttonEl =\n",
              "        document.querySelector('#df-12ab7647-f273-4d31-b864-bec4b5382b49 button.colab-df-convert');\n",
              "      buttonEl.style.display =\n",
              "        google.colab.kernel.accessAllowed ? 'block' : 'none';\n",
              "\n",
              "      async function convertToInteractive(key) {\n",
              "        const element = document.querySelector('#df-12ab7647-f273-4d31-b864-bec4b5382b49');\n",
              "        const dataTable =\n",
              "          await google.colab.kernel.invokeFunction('convertToInteractive',\n",
              "                                                    [key], {});\n",
              "        if (!dataTable) return;\n",
              "\n",
              "        const docLinkHtml = 'Like what you see? Visit the ' +\n",
              "          '<a target=\"_blank\" href=https://colab.research.google.com/notebooks/data_table.ipynb>data table notebook</a>'\n",
              "          + ' to learn more about interactive tables.';\n",
              "        element.innerHTML = '';\n",
              "        dataTable['output_type'] = 'display_data';\n",
              "        await google.colab.output.renderOutput(dataTable, element);\n",
              "        const docLink = document.createElement('div');\n",
              "        docLink.innerHTML = docLinkHtml;\n",
              "        element.appendChild(docLink);\n",
              "      }\n",
              "    </script>\n",
              "  </div>\n",
              "\n",
              "\n",
              "<div id=\"df-6885d890-93b4-4c50-9b3a-64cb23c27369\">\n",
              "  <button class=\"colab-df-quickchart\" onclick=\"quickchart('df-6885d890-93b4-4c50-9b3a-64cb23c27369')\"\n",
              "            title=\"Suggest charts\"\n",
              "            style=\"display:none;\">\n",
              "\n",
              "<svg xmlns=\"http://www.w3.org/2000/svg\" height=\"24px\"viewBox=\"0 0 24 24\"\n",
              "     width=\"24px\">\n",
              "    <g>\n",
              "        <path d=\"M19 3H5c-1.1 0-2 .9-2 2v14c0 1.1.9 2 2 2h14c1.1 0 2-.9 2-2V5c0-1.1-.9-2-2-2zM9 17H7v-7h2v7zm4 0h-2V7h2v10zm4 0h-2v-4h2v4z\"/>\n",
              "    </g>\n",
              "</svg>\n",
              "  </button>\n",
              "\n",
              "<style>\n",
              "  .colab-df-quickchart {\n",
              "      --bg-color: #E8F0FE;\n",
              "      --fill-color: #1967D2;\n",
              "      --hover-bg-color: #E2EBFA;\n",
              "      --hover-fill-color: #174EA6;\n",
              "      --disabled-fill-color: #AAA;\n",
              "      --disabled-bg-color: #DDD;\n",
              "  }\n",
              "\n",
              "  [theme=dark] .colab-df-quickchart {\n",
              "      --bg-color: #3B4455;\n",
              "      --fill-color: #D2E3FC;\n",
              "      --hover-bg-color: #434B5C;\n",
              "      --hover-fill-color: #FFFFFF;\n",
              "      --disabled-bg-color: #3B4455;\n",
              "      --disabled-fill-color: #666;\n",
              "  }\n",
              "\n",
              "  .colab-df-quickchart {\n",
              "    background-color: var(--bg-color);\n",
              "    border: none;\n",
              "    border-radius: 50%;\n",
              "    cursor: pointer;\n",
              "    display: none;\n",
              "    fill: var(--fill-color);\n",
              "    height: 32px;\n",
              "    padding: 0;\n",
              "    width: 32px;\n",
              "  }\n",
              "\n",
              "  .colab-df-quickchart:hover {\n",
              "    background-color: var(--hover-bg-color);\n",
              "    box-shadow: 0 1px 2px rgba(60, 64, 67, 0.3), 0 1px 3px 1px rgba(60, 64, 67, 0.15);\n",
              "    fill: var(--button-hover-fill-color);\n",
              "  }\n",
              "\n",
              "  .colab-df-quickchart-complete:disabled,\n",
              "  .colab-df-quickchart-complete:disabled:hover {\n",
              "    background-color: var(--disabled-bg-color);\n",
              "    fill: var(--disabled-fill-color);\n",
              "    box-shadow: none;\n",
              "  }\n",
              "\n",
              "  .colab-df-spinner {\n",
              "    border: 2px solid var(--fill-color);\n",
              "    border-color: transparent;\n",
              "    border-bottom-color: var(--fill-color);\n",
              "    animation:\n",
              "      spin 1s steps(1) infinite;\n",
              "  }\n",
              "\n",
              "  @keyframes spin {\n",
              "    0% {\n",
              "      border-color: transparent;\n",
              "      border-bottom-color: var(--fill-color);\n",
              "      border-left-color: var(--fill-color);\n",
              "    }\n",
              "    20% {\n",
              "      border-color: transparent;\n",
              "      border-left-color: var(--fill-color);\n",
              "      border-top-color: var(--fill-color);\n",
              "    }\n",
              "    30% {\n",
              "      border-color: transparent;\n",
              "      border-left-color: var(--fill-color);\n",
              "      border-top-color: var(--fill-color);\n",
              "      border-right-color: var(--fill-color);\n",
              "    }\n",
              "    40% {\n",
              "      border-color: transparent;\n",
              "      border-right-color: var(--fill-color);\n",
              "      border-top-color: var(--fill-color);\n",
              "    }\n",
              "    60% {\n",
              "      border-color: transparent;\n",
              "      border-right-color: var(--fill-color);\n",
              "    }\n",
              "    80% {\n",
              "      border-color: transparent;\n",
              "      border-right-color: var(--fill-color);\n",
              "      border-bottom-color: var(--fill-color);\n",
              "    }\n",
              "    90% {\n",
              "      border-color: transparent;\n",
              "      border-bottom-color: var(--fill-color);\n",
              "    }\n",
              "  }\n",
              "</style>\n",
              "\n",
              "  <script>\n",
              "    async function quickchart(key) {\n",
              "      const quickchartButtonEl =\n",
              "        document.querySelector('#' + key + ' button');\n",
              "      quickchartButtonEl.disabled = true;  // To prevent multiple clicks.\n",
              "      quickchartButtonEl.classList.add('colab-df-spinner');\n",
              "      try {\n",
              "        const charts = await google.colab.kernel.invokeFunction(\n",
              "            'suggestCharts', [key], {});\n",
              "      } catch (error) {\n",
              "        console.error('Error during call to suggestCharts:', error);\n",
              "      }\n",
              "      quickchartButtonEl.classList.remove('colab-df-spinner');\n",
              "      quickchartButtonEl.classList.add('colab-df-quickchart-complete');\n",
              "    }\n",
              "    (() => {\n",
              "      let quickchartButtonEl =\n",
              "        document.querySelector('#df-6885d890-93b4-4c50-9b3a-64cb23c27369 button');\n",
              "      quickchartButtonEl.style.display =\n",
              "        google.colab.kernel.accessAllowed ? 'block' : 'none';\n",
              "    })();\n",
              "  </script>\n",
              "</div>\n",
              "    </div>\n",
              "  </div>\n"
            ],
            "application/vnd.google.colaboratory.intrinsic+json": {
              "type": "dataframe",
              "variable_name": "studentRegDays_df",
              "summary": "{\n  \"name\": \"studentRegDays_df\",\n  \"rows\": 28785,\n  \"fields\": [\n    {\n      \"column\": \"id_student\",\n      \"properties\": {\n        \"dtype\": \"number\",\n        \"std\": 550440,\n        \"min\": 3733,\n        \"max\": 2716795,\n        \"num_unique_values\": 28785,\n        \"samples\": [\n          367605,\n          632210,\n          444011\n        ],\n        \"semantic_type\": \"\",\n        \"description\": \"\"\n      }\n    },\n    {\n      \"column\": \"register_days\",\n      \"properties\": {\n        \"dtype\": \"number\",\n        \"std\": 47.23719586282309,\n        \"min\": -322.0,\n        \"max\": 101.0,\n        \"num_unique_values\": 640,\n        \"samples\": [\n          -32.666666666666664,\n          -63.666666666666664,\n          -127.5\n        ],\n        \"semantic_type\": \"\",\n        \"description\": \"\"\n      }\n    },\n    {\n      \"column\": \"unregister_days\",\n      \"properties\": {\n        \"dtype\": \"number\",\n        \"std\": 44.35706454175,\n        \"min\": -317.0,\n        \"max\": 444.0,\n        \"num_unique_values\": 758,\n        \"samples\": [\n          166.5,\n          -50.0,\n          132.5\n        ],\n        \"semantic_type\": \"\",\n        \"description\": \"\"\n      }\n    }\n  ]\n}"
            }
          },
          "metadata": {},
          "execution_count": 40
        }
      ]
    },
    {
      "cell_type": "code",
      "source": [
        "studentInterest_df = studentRegistration_df[['id_student', 'registered', 'unregistered']].groupby(['id_student']).sum()\n",
        "studentInterest_df = studentInterest_df.reset_index()"
      ],
      "metadata": {
        "id": "IqHeNtQtkJyZ"
      },
      "execution_count": 41,
      "outputs": []
    },
    {
      "cell_type": "code",
      "source": [
        "show_basic_info(studentInterest_df)"
      ],
      "metadata": {
        "id": "qCrTnZC6kMeh",
        "outputId": "90c2cf3f-74f0-4abd-a209-0cfc6b814091",
        "colab": {
          "base_uri": "https://localhost:8080/"
        }
      },
      "execution_count": 42,
      "outputs": [
        {
          "output_type": "stream",
          "name": "stdout",
          "text": [
            "========================================================================================================\n",
            "HEAD:\n",
            "   id_student  registered  unregistered\n",
            "0        3733           1             1\n",
            "1        6516           1             1\n",
            "2        8462           2             2\n",
            "--------------------------------------------------------------------------------------------------------\n",
            "SHAPE:\n",
            "(28785, 3)\n",
            "--------------------------------------------------------------------------------------------------------\n",
            "INFO:\n",
            "<class 'pandas.core.frame.DataFrame'>\n",
            "RangeIndex: 28785 entries, 0 to 28784\n",
            "Data columns (total 3 columns):\n",
            " #   Column        Non-Null Count  Dtype\n",
            "---  ------        --------------  -----\n",
            " 0   id_student    28785 non-null  int64\n",
            " 1   registered    28785 non-null  int64\n",
            " 2   unregistered  28785 non-null  int64\n",
            "dtypes: int64(3)\n",
            "memory usage: 674.8 KB\n",
            "None\n",
            "--------------------------------------------------------------------------------------------------------\n",
            "DESCRIBE:\n",
            "         id_student    registered  unregistered\n",
            "count  2.878500e+04  28785.000000  28785.000000\n",
            "mean   7.074447e+05      1.132291      1.132291\n",
            "std    5.504403e+05      0.367915      0.367915\n",
            "min    3.733000e+03      1.000000      1.000000\n",
            "25%    5.081030e+05      1.000000      1.000000\n",
            "50%    5.906260e+05      1.000000      1.000000\n",
            "75%    6.464820e+05      1.000000      1.000000\n",
            "max    2.716795e+06      5.000000      5.000000\n",
            "--------------------------------------------------------------------------------------------------------\n",
            "========================================================================================================\n"
          ]
        }
      ]
    },
    {
      "cell_type": "code",
      "source": [
        "studentInterest_df.unregistered.hist();"
      ],
      "metadata": {
        "id": "k9ggYiXlkP0Z",
        "outputId": "9ef3a82a-cacc-4937-8eb3-42ccdfce2171",
        "colab": {
          "base_uri": "https://localhost:8080/",
          "height": 430
        }
      },
      "execution_count": 43,
      "outputs": [
        {
          "output_type": "display_data",
          "data": {
            "text/plain": [
              "<Figure size 640x480 with 1 Axes>"
            ],
            "image/png": "[encoded data removed]"
          },
          "metadata": {}
        }
      ]
    },
    {
      "cell_type": "code",
      "source": [
        "studentAssessment_df['score'] = (np.where(pd.isnull(studentAssessment_df.score), 0, studentAssessment_df.score)).astype(int)\n"
      ],
      "metadata": {
        "id": "Ci-ShkZbkSwK"
      },
      "execution_count": 44,
      "outputs": []
    },
    {
      "cell_type": "code",
      "source": [
        "studentAssessment_df['assessment_mean'] = studentAssessment_df['score'].groupby(studentAssessment_df['id_assessment']) \\\n",
        ".transform('mean')"
      ],
      "metadata": {
        "id": "nSnMFxbQkUHx"
      },
      "execution_count": 45,
      "outputs": []
    },
    {
      "cell_type": "code",
      "source": [
        "studentAssessment_df['score_std'] = studentAssessment_df.score/studentAssessment_df.assessment_mean"
      ],
      "metadata": {
        "id": "xzDw9epqkV_p"
      },
      "execution_count": 46,
      "outputs": []
    },
    {
      "cell_type": "code",
      "source": [
        "studentScoring_df = studentAssessment_df[['id_student',\n",
        "                                          'score_std']].groupby(['id_student']).median()\n",
        "studentScoring_df = studentScoring_df.reset_index()\n",
        "studentScoring_df.info()"
      ],
      "metadata": {
        "id": "z5eQzcrokWxi",
        "outputId": "688aa126-be93-46e1-8daa-6fddc31de4e6",
        "colab": {
          "base_uri": "https://localhost:8080/"
        }
      },
      "execution_count": 47,
      "outputs": [
        {
          "output_type": "stream",
          "name": "stdout",
          "text": [
            "<class 'pandas.core.frame.DataFrame'>\n",
            "RangeIndex: 23369 entries, 0 to 23368\n",
            "Data columns (total 2 columns):\n",
            " #   Column      Non-Null Count  Dtype  \n",
            "---  ------      --------------  -----  \n",
            " 0   id_student  23369 non-null  int64  \n",
            " 1   score_std   23369 non-null  float64\n",
            "dtypes: float64(1), int64(1)\n",
            "memory usage: 365.3 KB\n"
          ]
        }
      ]
    },
    {
      "cell_type": "code",
      "source": [
        "studentScoring_df.score_std.hist();"
      ],
      "metadata": {
        "id": "1egJ8cCLkZep",
        "outputId": "7c6761a6-0b55-4544-fc6e-b9843c607f24",
        "colab": {
          "base_uri": "https://localhost:8080/",
          "height": 430
        }
      },
      "execution_count": 48,
      "outputs": [
        {
          "output_type": "display_data",
          "data": {
            "text/plain": [
              "<Figure size 640x480 with 1 Axes>"
            ],
            "image/png": "[encoded data removed]"
          },
          "metadata": {}
        }
      ]
    },
    {
      "cell_type": "code",
      "source": [
        "studentVle_df.shape"
      ],
      "metadata": {
        "id": "noxrcs_fkbxx",
        "outputId": "d4ed7f6a-0460-4cc1-cf4b-48c9a4370537",
        "colab": {
          "base_uri": "https://localhost:8080/"
        }
      },
      "execution_count": 49,
      "outputs": [
        {
          "output_type": "execute_result",
          "data": {
            "text/plain": [
              "(10655280, 7)"
            ]
          },
          "metadata": {},
          "execution_count": 49
        }
      ]
    },
    {
      "cell_type": "code",
      "source": [
        "show_basic_info(studentVle_df)"
      ],
      "metadata": {
        "id": "3twwjLfmkoxa",
        "outputId": "166ed2ac-2b27-445b-f3c9-5167548527c4",
        "colab": {
          "base_uri": "https://localhost:8080/"
        }
      },
      "execution_count": 50,
      "outputs": [
        {
          "output_type": "stream",
          "name": "stdout",
          "text": [
            "========================================================================================================\n",
            "HEAD:\n",
            "   Unnamed: 0 code_module code_presentation  id_student  id_site  date  \\\n",
            "0           0         AAA             2013J       28400   546652   -10   \n",
            "1           1         AAA             2013J       28400   546652   -10   \n",
            "2           2         AAA             2013J       28400   546652   -10   \n",
            "\n",
            "   sum_click  \n",
            "0          4  \n",
            "1          1  \n",
            "2          1  \n",
            "--------------------------------------------------------------------------------------------------------\n",
            "SHAPE:\n",
            "(10655280, 7)\n",
            "--------------------------------------------------------------------------------------------------------\n",
            "INFO:\n",
            "<class 'pandas.core.frame.DataFrame'>\n",
            "Index: 10655280 entries, 0 to 155279\n",
            "Data columns (total 7 columns):\n",
            " #   Column             Dtype \n",
            "---  ------             ----- \n",
            " 0   Unnamed: 0         int64 \n",
            " 1   code_module        object\n",
            " 2   code_presentation  object\n",
            " 3   id_student         int64 \n",
            " 4   id_site            int64 \n",
            " 5   date               int64 \n",
            " 6   sum_click          int64 \n",
            "dtypes: int64(5), object(2)\n",
            "memory usage: 650.3+ MB\n",
            "None\n",
            "--------------------------------------------------------------------------------------------------------\n",
            "DESCRIBE:\n",
            "         Unnamed: 0    id_student       id_site          date     sum_click\n",
            "count  1.065528e+07  1.065528e+07  1.065528e+07  1.065528e+07  1.065528e+07\n",
            "mean   5.327640e+06  7.333336e+05  7.383234e+05  9.517400e+01  3.716946e+00\n",
            "std    3.075915e+06  5.827060e+05  1.312196e+05  7.607130e+01  8.849047e+00\n",
            "min    0.000000e+00  6.516000e+03  5.267210e+05 -2.500000e+01  1.000000e+00\n",
            "25%    2.663820e+06  5.077430e+05  6.735190e+05  2.500000e+01  1.000000e+00\n",
            "50%    5.327640e+06  5.882360e+05  7.300690e+05  8.600000e+01  2.000000e+00\n",
            "75%    7.991459e+06  6.464840e+05  8.770300e+05  1.560000e+02  3.000000e+00\n",
            "max    1.065528e+07  2.698588e+06  1.049562e+06  2.690000e+02  6.977000e+03\n",
            "--------------------------------------------------------------------------------------------------------\n",
            "========================================================================================================\n"
          ]
        }
      ]
    },
    {
      "cell_type": "code",
      "source": [
        "studentVle_df = studentVle_df.merge(vle_df, on = 'id_site', how = 'left')"
      ],
      "metadata": {
        "id": "hO-SeUqYkrCh"
      },
      "execution_count": 51,
      "outputs": []
    },
    {
      "cell_type": "code",
      "source": [
        "sns.countplot(studentVle_df.activity_type)\n",
        "plt.xticks(rotation = 90)"
      ],
      "metadata": {
        "id": "rnixxZNVktKK",
        "outputId": "0e73984c-a760-4a13-c514-eb0d925a8d31",
        "colab": {
          "base_uri": "https://localhost:8080/",
          "height": 613
        }
      },
      "execution_count": 52,
      "outputs": [
        {
          "output_type": "execute_result",
          "data": {
            "text/plain": [
              "(array([      0.,  500000., 1000000., 1500000., 2000000., 2500000.,\n",
              "        3000000.]),\n",
              " [Text(0.0, 0, '0.0'),\n",
              "  Text(500000.0, 0, '0.5'),\n",
              "  Text(1000000.0, 0, '1.0'),\n",
              "  Text(1500000.0, 0, '1.5'),\n",
              "  Text(2000000.0, 0, '2.0'),\n",
              "  Text(2500000.0, 0, '2.5'),\n",
              "  Text(3000000.0, 0, '3.0')])"
            ]
          },
          "metadata": {},
          "execution_count": 52
        },
        {
          "output_type": "display_data",
          "data": {
            "text/plain": [
              "<Figure size 640x480 with 1 Axes>"
            ],
            "image/png": "[encoded data removed]"
          },
          "metadata": {}
        }
      ]
    },
    {
      "cell_type": "code",
      "source": [
        "studentInteractivity_df = studentVle_df[['id_student',\n",
        "                                     'activity_type', 'sum_click']].groupby(['id_student', 'activity_type']).mean()\n",
        "studentInteractivity_df = studentInteractivity_df.reset_index()\n",
        "studentInteractivity_df.head()\n",
        "#pivoting will help us reduce multiple rows per student to one single row with multiple columns\n",
        "#After this we can visualize the columns with missing data"
      ],
      "metadata": {
        "id": "G5O4NaCdkvrY",
        "outputId": "8d67fb56-f5a7-4030-a912-50f623757024",
        "colab": {
          "base_uri": "https://localhost:8080/",
          "height": 206
        }
      },
      "execution_count": 53,
      "outputs": [
        {
          "output_type": "execute_result",
          "data": {
            "text/plain": [
              "   id_student activity_type  sum_click\n",
              "0        6516      dataplus   5.250000\n",
              "1        6516       forumng   2.577143\n",
              "2        6516      homepage   3.145570\n",
              "3        6516     oucontent   8.179348\n",
              "4        6516      resource   1.631579"
            ],
            "text/html": [
              "\n",
              "  <div id=\"df-b5197d7c-c49a-4ecb-b5a4-6c9f51d0e4c6\" class=\"colab-df-container\">\n",
              "    <div>\n",
              "<style scoped>\n",
              "    .dataframe tbody tr th:only-of-type {\n",
              "        vertical-align: middle;\n",
              "    }\n",
              "\n",
              "    .dataframe tbody tr th {\n",
              "        vertical-align: top;\n",
              "    }\n",
              "\n",
              "    .dataframe thead th {\n",
              "        text-align: right;\n",
              "    }\n",
              "</style>\n",
              "<table border=\"1\" class=\"dataframe\">\n",
              "  <thead>\n",
              "    <tr style=\"text-align: right;\">\n",
              "      <th></th>\n",
              "      <th>id_student</th>\n",
              "      <th>activity_type</th>\n",
              "      <th>sum_click</th>\n",
              "    </tr>\n",
              "  </thead>\n",
              "  <tbody>\n",
              "    <tr>\n",
              "      <th>0</th>\n",
              "      <td>6516</td>\n",
              "      <td>dataplus</td>\n",
              "      <td>5.250000</td>\n",
              "    </tr>\n",
              "    <tr>\n",
              "      <th>1</th>\n",
              "      <td>6516</td>\n",
              "      <td>forumng</td>\n",
              "      <td>2.577143</td>\n",
              "    </tr>\n",
              "    <tr>\n",
              "      <th>2</th>\n",
              "      <td>6516</td>\n",
              "      <td>homepage</td>\n",
              "      <td>3.145570</td>\n",
              "    </tr>\n",
              "    <tr>\n",
              "      <th>3</th>\n",
              "      <td>6516</td>\n",
              "      <td>oucontent</td>\n",
              "      <td>8.179348</td>\n",
              "    </tr>\n",
              "    <tr>\n",
              "      <th>4</th>\n",
              "      <td>6516</td>\n",
              "      <td>resource</td>\n",
              "      <td>1.631579</td>\n",
              "    </tr>\n",
              "  </tbody>\n",
              "</table>\n",
              "</div>\n",
              "    <div class=\"colab-df-buttons\">\n",
              "\n",
              "  <div class=\"colab-df-container\">\n",
              "    <button class=\"colab-df-convert\" onclick=\"convertToInteractive('df-b5197d7c-c49a-4ecb-b5a4-6c9f51d0e4c6')\"\n",
              "            title=\"Convert this dataframe to an interactive table.\"\n",
              "            style=\"display:none;\">\n",
              "\n",
              "  <svg xmlns=\"http://www.w3.org/2000/svg\" height=\"24px\" viewBox=\"0 -960 960 960\">\n",
              "    <path d=\"M120-120v-720h720v720H120Zm60-500h600v-160H180v160Zm220 220h160v-160H400v160Zm0 220h160v-160H400v160ZM180-400h160v-160H180v160Zm440 0h160v-160H620v160ZM180-180h160v-160H180v160Zm440 0h160v-160H620v160Z\"/>\n",
              "  </svg>\n",
              "    </button>\n",
              "\n",
              "  <style>\n",
              "    .colab-df-container {\n",
              "      display:flex;\n",
              "      gap: 12px;\n",
              "    }\n",
              "\n",
              "    .colab-df-convert {\n",
              "      background-color: #E8F0FE;\n",
              "      border: none;\n",
              "      border-radius: 50%;\n",
              "      cursor: pointer;\n",
              "      display: none;\n",
              "      fill: #1967D2;\n",
              "      height: 32px;\n",
              "      padding: 0 0 0 0;\n",
              "      width: 32px;\n",
              "    }\n",
              "\n",
              "    .colab-df-convert:hover {\n",
              "      background-color: #E2EBFA;\n",
              "      box-shadow: 0px 1px 2px rgba(60, 64, 67, 0.3), 0px 1px 3px 1px rgba(60, 64, 67, 0.15);\n",
              "      fill: #174EA6;\n",
              "    }\n",
              "\n",
              "    .colab-df-buttons div {\n",
              "      margin-bottom: 4px;\n",
              "    }\n",
              "\n",
              "    [theme=dark] .colab-df-convert {\n",
              "      background-color: #3B4455;\n",
              "      fill: #D2E3FC;\n",
              "    }\n",
              "\n",
              "    [theme=dark] .colab-df-convert:hover {\n",
              "      background-color: #434B5C;\n",
              "      box-shadow: 0px 1px 3px 1px rgba(0, 0, 0, 0.15);\n",
              "      filter: drop-shadow(0px 1px 2px rgba(0, 0, 0, 0.3));\n",
              "      fill: #FFFFFF;\n",
              "    }\n",
              "  </style>\n",
              "\n",
              "    <script>\n",
              "      const buttonEl =\n",
              "        document.querySelector('#df-b5197d7c-c49a-4ecb-b5a4-6c9f51d0e4c6 button.colab-df-convert');\n",
              "      buttonEl.style.display =\n",
              "        google.colab.kernel.accessAllowed ? 'block' : 'none';\n",
              "\n",
              "      async function convertToInteractive(key) {\n",
              "        const element = document.querySelector('#df-b5197d7c-c49a-4ecb-b5a4-6c9f51d0e4c6');\n",
              "        const dataTable =\n",
              "          await google.colab.kernel.invokeFunction('convertToInteractive',\n",
              "                                                    [key], {});\n",
              "        if (!dataTable) return;\n",
              "\n",
              "        const docLinkHtml = 'Like what you see? Visit the ' +\n",
              "          '<a target=\"_blank\" href=https://colab.research.google.com/notebooks/data_table.ipynb>data table notebook</a>'\n",
              "          + ' to learn more about interactive tables.';\n",
              "        element.innerHTML = '';\n",
              "        dataTable['output_type'] = 'display_data';\n",
              "        await google.colab.output.renderOutput(dataTable, element);\n",
              "        const docLink = document.createElement('div');\n",
              "        docLink.innerHTML = docLinkHtml;\n",
              "        element.appendChild(docLink);\n",
              "      }\n",
              "    </script>\n",
              "  </div>\n",
              "\n",
              "\n",
              "<div id=\"df-62761fca-346a-4854-af10-d2c2f2c079a5\">\n",
              "  <button class=\"colab-df-quickchart\" onclick=\"quickchart('df-62761fca-346a-4854-af10-d2c2f2c079a5')\"\n",
              "            title=\"Suggest charts\"\n",
              "            style=\"display:none;\">\n",
              "\n",
              "<svg xmlns=\"http://www.w3.org/2000/svg\" height=\"24px\"viewBox=\"0 0 24 24\"\n",
              "     width=\"24px\">\n",
              "    <g>\n",
              "        <path d=\"M19 3H5c-1.1 0-2 .9-2 2v14c0 1.1.9 2 2 2h14c1.1 0 2-.9 2-2V5c0-1.1-.9-2-2-2zM9 17H7v-7h2v7zm4 0h-2V7h2v10zm4 0h-2v-4h2v4z\"/>\n",
              "    </g>\n",
              "</svg>\n",
              "  </button>\n",
              "\n",
              "<style>\n",
              "  .colab-df-quickchart {\n",
              "      --bg-color: #E8F0FE;\n",
              "      --fill-color: #1967D2;\n",
              "      --hover-bg-color: #E2EBFA;\n",
              "      --hover-fill-color: #174EA6;\n",
              "      --disabled-fill-color: #AAA;\n",
              "      --disabled-bg-color: #DDD;\n",
              "  }\n",
              "\n",
              "  [theme=dark] .colab-df-quickchart {\n",
              "      --bg-color: #3B4455;\n",
              "      --fill-color: #D2E3FC;\n",
              "      --hover-bg-color: #434B5C;\n",
              "      --hover-fill-color: #FFFFFF;\n",
              "      --disabled-bg-color: #3B4455;\n",
              "      --disabled-fill-color: #666;\n",
              "  }\n",
              "\n",
              "  .colab-df-quickchart {\n",
              "    background-color: var(--bg-color);\n",
              "    border: none;\n",
              "    border-radius: 50%;\n",
              "    cursor: pointer;\n",
              "    display: none;\n",
              "    fill: var(--fill-color);\n",
              "    height: 32px;\n",
              "    padding: 0;\n",
              "    width: 32px;\n",
              "  }\n",
              "\n",
              "  .colab-df-quickchart:hover {\n",
              "    background-color: var(--hover-bg-color);\n",
              "    box-shadow: 0 1px 2px rgba(60, 64, 67, 0.3), 0 1px 3px 1px rgba(60, 64, 67, 0.15);\n",
              "    fill: var(--button-hover-fill-color);\n",
              "  }\n",
              "\n",
              "  .colab-df-quickchart-complete:disabled,\n",
              "  .colab-df-quickchart-complete:disabled:hover {\n",
              "    background-color: var(--disabled-bg-color);\n",
              "    fill: var(--disabled-fill-color);\n",
              "    box-shadow: none;\n",
              "  }\n",
              "\n",
              "  .colab-df-spinner {\n",
              "    border: 2px solid var(--fill-color);\n",
              "    border-color: transparent;\n",
              "    border-bottom-color: var(--fill-color);\n",
              "    animation:\n",
              "      spin 1s steps(1) infinite;\n",
              "  }\n",
              "\n",
              "  @keyframes spin {\n",
              "    0% {\n",
              "      border-color: transparent;\n",
              "      border-bottom-color: var(--fill-color);\n",
              "      border-left-color: var(--fill-color);\n",
              "    }\n",
              "    20% {\n",
              "      border-color: transparent;\n",
              "      border-left-color: var(--fill-color);\n",
              "      border-top-color: var(--fill-color);\n",
              "    }\n",
              "    30% {\n",
              "      border-color: transparent;\n",
              "      border-left-color: var(--fill-color);\n",
              "      border-top-color: var(--fill-color);\n",
              "      border-right-color: var(--fill-color);\n",
              "    }\n",
              "    40% {\n",
              "      border-color: transparent;\n",
              "      border-right-color: var(--fill-color);\n",
              "      border-top-color: var(--fill-color);\n",
              "    }\n",
              "    60% {\n",
              "      border-color: transparent;\n",
              "      border-right-color: var(--fill-color);\n",
              "    }\n",
              "    80% {\n",
              "      border-color: transparent;\n",
              "      border-right-color: var(--fill-color);\n",
              "      border-bottom-color: var(--fill-color);\n",
              "    }\n",
              "    90% {\n",
              "      border-color: transparent;\n",
              "      border-bottom-color: var(--fill-color);\n",
              "    }\n",
              "  }\n",
              "</style>\n",
              "\n",
              "  <script>\n",
              "    async function quickchart(key) {\n",
              "      const quickchartButtonEl =\n",
              "        document.querySelector('#' + key + ' button');\n",
              "      quickchartButtonEl.disabled = true;  // To prevent multiple clicks.\n",
              "      quickchartButtonEl.classList.add('colab-df-spinner');\n",
              "      try {\n",
              "        const charts = await google.colab.kernel.invokeFunction(\n",
              "            'suggestCharts', [key], {});\n",
              "      } catch (error) {\n",
              "        console.error('Error during call to suggestCharts:', error);\n",
              "      }\n",
              "      quickchartButtonEl.classList.remove('colab-df-spinner');\n",
              "      quickchartButtonEl.classList.add('colab-df-quickchart-complete');\n",
              "    }\n",
              "    (() => {\n",
              "      let quickchartButtonEl =\n",
              "        document.querySelector('#df-62761fca-346a-4854-af10-d2c2f2c079a5 button');\n",
              "      quickchartButtonEl.style.display =\n",
              "        google.colab.kernel.accessAllowed ? 'block' : 'none';\n",
              "    })();\n",
              "  </script>\n",
              "</div>\n",
              "    </div>\n",
              "  </div>\n"
            ],
            "application/vnd.google.colaboratory.intrinsic+json": {
              "type": "dataframe",
              "summary": "{\n  \"name\": \"#After this we can visualize the columns with missing data\",\n  \"rows\": 5,\n  \"fields\": [\n    {\n      \"column\": \"id_student\",\n      \"properties\": {\n        \"dtype\": \"number\",\n        \"std\": 0,\n        \"min\": 6516,\n        \"max\": 6516,\n        \"num_unique_values\": 1,\n        \"samples\": [\n          6516\n        ],\n        \"semantic_type\": \"\",\n        \"description\": \"\"\n      }\n    },\n    {\n      \"column\": \"activity_type\",\n      \"properties\": {\n        \"dtype\": \"string\",\n        \"num_unique_values\": 5,\n        \"samples\": [\n          \"forumng\"\n        ],\n        \"semantic_type\": \"\",\n        \"description\": \"\"\n      }\n    },\n    {\n      \"column\": \"sum_click\",\n      \"properties\": {\n        \"dtype\": \"number\",\n        \"std\": 2.6110640628719346,\n        \"min\": 1.631578947368421,\n        \"max\": 8.179347826086957,\n        \"num_unique_values\": 5,\n        \"samples\": [\n          2.577142857142857\n        ],\n        \"semantic_type\": \"\",\n        \"description\": \"\"\n      }\n    }\n  ]\n}"
            }
          },
          "metadata": {},
          "execution_count": 53
        }
      ]
    },
    {
      "cell_type": "code",
      "source": [
        "# Print column names to debug\n",
        "print(\"Columns in student_info:\", studentInfo_df.columns)\n",
        "print(\"Columns in student_assessment:\", studentAssessment_df.columns)\n",
        "print(\"Columns in student_registration:\", studentRegistration_df.columns)\n",
        "print(\"Columns in all_student_vle:\", all_student_vle.columns)\n",
        "print(\"Columns in vle:\", vle_df.columns)"
      ],
      "metadata": {
        "id": "CwdxEr1qvz2e",
        "outputId": "a3b124a2-5fee-406e-8197-f33c8b6a5680",
        "colab": {
          "base_uri": "https://localhost:8080/",
          "height": 384
        }
      },
      "execution_count": 68,
      "outputs": [
        {
          "output_type": "stream",
          "name": "stdout",
          "text": [
            "Columns in student_info: Index(['code_module', 'code_presentation', 'id_student', 'gender', 'region',\n",
            "       'highest_education', 'imd_band', 'age_band', 'num_of_prev_attempts',\n",
            "       'studied_credits', 'disability', 'final_result'],\n",
            "      dtype='object')\n",
            "Columns in student_assessment: Index(['id_assessment', 'id_student', 'date_submitted', 'is_banked', 'score',\n",
            "       'assessment_mean', 'score_std'],\n",
            "      dtype='object')\n",
            "Columns in student_registration: Index(['code_module', 'code_presentation', 'id_student', 'date_registration',\n",
            "       'date_unregistration', 'unregistered', 'registered', 'register_days',\n",
            "       'unregister_days'],\n",
            "      dtype='object')\n"
          ]
        },
        {
          "output_type": "error",
          "ename": "NameError",
          "evalue": "name 'all_student_vle' is not defined",
          "traceback": [
            "\u001b[0;31m---------------------------------------------------------------------------\u001b[0m",
            "\u001b[0;31mNameError\u001b[0m                                 Traceback (most recent call last)",
            "\u001b[0;32m<ipython-input-68-60d6f89b3710>\u001b[0m in \u001b[0;36m<cell line: 5>\u001b[0;34m()\u001b[0m\n\u001b[1;32m      3\u001b[0m \u001b[0mprint\u001b[0m\u001b[0;34m(\u001b[0m\u001b[0;34m\"Columns in student_assessment:\"\u001b[0m\u001b[0;34m,\u001b[0m \u001b[0mstudentAssessment_df\u001b[0m\u001b[0;34m.\u001b[0m\u001b[0mcolumns\u001b[0m\u001b[0;34m)\u001b[0m\u001b[0;34m\u001b[0m\u001b[0;34m\u001b[0m\u001b[0m\n\u001b[1;32m      4\u001b[0m \u001b[0mprint\u001b[0m\u001b[0;34m(\u001b[0m\u001b[0;34m\"Columns in student_registration:\"\u001b[0m\u001b[0;34m,\u001b[0m \u001b[0mstudentRegistration_df\u001b[0m\u001b[0;34m.\u001b[0m\u001b[0mcolumns\u001b[0m\u001b[0;34m)\u001b[0m\u001b[0;34m\u001b[0m\u001b[0;34m\u001b[0m\u001b[0m\n\u001b[0;32m----> 5\u001b[0;31m \u001b[0mprint\u001b[0m\u001b[0;34m(\u001b[0m\u001b[0;34m\"Columns in student_vle:\"\u001b[0m\u001b[0;34m,\u001b[0m \u001b[0mall_student_vle\u001b[0m\u001b[0;34m.\u001b[0m\u001b[0mcolumns\u001b[0m\u001b[0;34m)\u001b[0m\u001b[0;34m\u001b[0m\u001b[0;34m\u001b[0m\u001b[0m\n\u001b[0m\u001b[1;32m      6\u001b[0m \u001b[0mprint\u001b[0m\u001b[0;34m(\u001b[0m\u001b[0;34m\"Columns in vle:\"\u001b[0m\u001b[0;34m,\u001b[0m \u001b[0mvle_df\u001b[0m\u001b[0;34m.\u001b[0m\u001b[0mcolumns\u001b[0m\u001b[0;34m)\u001b[0m\u001b[0;34m\u001b[0m\u001b[0;34m\u001b[0m\u001b[0m\n",
            "\u001b[0;31mNameError\u001b[0m: name 'all_student_vle' is not defined"
          ]
        }
      ]
    },
    {
      "cell_type": "code",
      "source": [
        "# Rename columns if needed\n",
        "if 'module' in studentInfo_df.columns:\n",
        "    studentInfo_df.rename(columns={'module': 'code_module'}, inplace=True)\n",
        "if 'presentation' in studentInfo_df.columns:\n",
        "    studentInfo_df.rename(columns={'presentation': 'code_presentation'}, inplace=True)\n",
        "\n",
        "if 'module' in studentAssessment_df.columns:\n",
        "    studentAssessment_df.rename(columns={'module': 'code_module'}, inplace=True)\n",
        "if 'presentation' in studentAssessment_df.columns:\n",
        "    studentAssessment_df.rename(columns={'presentation': 'code_presentation'}, inplace=True)\n",
        "\n",
        "if 'module' in studentRegistration_df.columns:\n",
        "    studentRegistration_df.rename(columns={'module': 'code_module'}, inplace=True)\n",
        "if 'presentation' in studentRegistration_df.columns:\n",
        "    studentRegistration_df.rename(columns={'presentation': 'code_presentation'}, inplace=True)\n",
        "\n",
        "if 'module' in studentVle_df.columns:\n",
        "    studentVle_df.rename(columns={'module': 'code_module'}, inplace=True)\n",
        "if 'presentation' in vle_df.columns:\n",
        "    studentVle_df.rename(columns={'presentation': 'code_presentation'}, inplace=True)\n",
        "\n",
        "if 'module' in vle_df.columns:\n",
        "    vle_df.rename(columns={'module': 'code_module'}, inplace=True)\n",
        "if 'presentation' in vle_df.columns:\n",
        "    vle_df.rename(columns={'presentation': 'code_presentation'}, inplace=True)\n"
      ],
      "metadata": {
        "id": "vEClnv3rjxf-"
      },
      "execution_count": 66,
      "outputs": []
    },
    {
      "cell_type": "code",
      "source": [
        "# Function to inspect column names of datasets\n",
        "def inspect_columns(datasets):\n",
        "    for name, df in datasets.items():\n",
        "        print(f\"--- {name} ---\")\n",
        "        print(df.columns)\n",
        "        print(\"\\n\")\n",
        "\n",
        "datasets = {\n",
        "    \"student_info\": studentInfo_df,\n",
        "    \"student_assessment\": studentAssessment_df,\n",
        "    \"student_registration\": studentRegistration_df,\n",
        "    \"studentVle\": studentVle_df,\n",
        "    \"vle\": vle_df,\n",
        "    \"assessments\": assessments_df,\n",
        "    \"courses\": courses_df\n",
        "}\n",
        "\n",
        "inspect_columns(datasets)\n"
      ],
      "metadata": {
        "id": "NERaK5kfxYxI",
        "outputId": "93781471-2f2a-48b4-c2aa-c47f8a7bb533",
        "colab": {
          "base_uri": "https://localhost:8080/"
        }
      },
      "execution_count": 70,
      "outputs": [
        {
          "output_type": "stream",
          "name": "stdout",
          "text": [
            "--- student_info ---\n",
            "Index(['code_module', 'code_presentation', 'id_student', 'gender', 'region',\n",
            "       'highest_education', 'imd_band', 'age_band', 'num_of_prev_attempts',\n",
            "       'studied_credits', 'disability', 'final_result'],\n",
            "      dtype='object')\n",
            "\n",
            "\n",
            "--- student_assessment ---\n",
            "Index(['id_assessment', 'id_student', 'date_submitted', 'is_banked', 'score',\n",
            "       'assessment_mean', 'score_std'],\n",
            "      dtype='object')\n",
            "\n",
            "\n",
            "--- student_registration ---\n",
            "Index(['code_module', 'code_presentation', 'id_student', 'date_registration',\n",
            "       'date_unregistration', 'unregistered', 'registered', 'register_days',\n",
            "       'unregister_days'],\n",
            "      dtype='object')\n",
            "\n",
            "\n",
            "--- studentVle ---\n",
            "Index(['Unnamed: 0', 'code_module_x', 'code_presentation_x', 'id_student',\n",
            "       'id_site', 'date', 'sum_click', 'code_module_y', 'code_presentation_y',\n",
            "       'activity_type'],\n",
            "      dtype='object')\n",
            "\n",
            "\n",
            "--- vle ---\n",
            "Index(['id_site', 'code_module', 'code_presentation', 'activity_type'], dtype='object')\n",
            "\n",
            "\n",
            "--- assessments ---\n",
            "Index(['code_module', 'code_presentation', 'id_assessment', 'assessment_type',\n",
            "       'date', 'weight'],\n",
            "      dtype='object')\n",
            "\n",
            "\n",
            "--- courses ---\n",
            "Index(['code_module', 'code_presentation', 'module_presentation_length'], dtype='object')\n",
            "\n",
            "\n"
          ]
        }
      ]
    },
    {
      "cell_type": "code",
      "source": [
        "# Print column names again to verify\n",
        "inspect_columns(datasets)\n"
      ],
      "metadata": {
        "id": "6_TkiphgyA-a",
        "outputId": "09e7e95d-dd68-41be-8db6-9580c2f6292a",
        "colab": {
          "base_uri": "https://localhost:8080/"
        }
      },
      "execution_count": 71,
      "outputs": [
        {
          "output_type": "stream",
          "name": "stdout",
          "text": [
            "--- student_info ---\n",
            "Index(['code_module', 'code_presentation', 'id_student', 'gender', 'region',\n",
            "       'highest_education', 'imd_band', 'age_band', 'num_of_prev_attempts',\n",
            "       'studied_credits', 'disability', 'final_result'],\n",
            "      dtype='object')\n",
            "\n",
            "\n",
            "--- student_assessment ---\n",
            "Index(['id_assessment', 'id_student', 'date_submitted', 'is_banked', 'score',\n",
            "       'assessment_mean', 'score_std'],\n",
            "      dtype='object')\n",
            "\n",
            "\n",
            "--- student_registration ---\n",
            "Index(['code_module', 'code_presentation', 'id_student', 'date_registration',\n",
            "       'date_unregistration', 'unregistered', 'registered', 'register_days',\n",
            "       'unregister_days'],\n",
            "      dtype='object')\n",
            "\n",
            "\n",
            "--- studentVle ---\n",
            "Index(['Unnamed: 0', 'code_module_x', 'code_presentation_x', 'id_student',\n",
            "       'id_site', 'date', 'sum_click', 'code_module_y', 'code_presentation_y',\n",
            "       'activity_type'],\n",
            "      dtype='object')\n",
            "\n",
            "\n",
            "--- vle ---\n",
            "Index(['id_site', 'code_module', 'code_presentation', 'activity_type'], dtype='object')\n",
            "\n",
            "\n",
            "--- assessments ---\n",
            "Index(['code_module', 'code_presentation', 'id_assessment', 'assessment_type',\n",
            "       'date', 'weight'],\n",
            "      dtype='object')\n",
            "\n",
            "\n",
            "--- courses ---\n",
            "Index(['code_module', 'code_presentation', 'module_presentation_length'], dtype='object')\n",
            "\n",
            "\n"
          ]
        }
      ]
    },
    {
      "cell_type": "code",
      "source": [
        "# Ensure key columns are compatible for merging\n",
        "studentInfo_df['id_student'] = studentInfo_df['id_student'].astype(int)\n",
        "studentAssessment_df['id_student'] = studentAssessment_df['id_student'].astype(int)\n",
        "studentRegistration_df['id_student'] = studentRegistration_df['id_student'].astype(int)\n",
        "\n",
        "# Merge studentInfo with studentAssessment\n",
        "merged_info_assessment = pd.merge(studentInfo_df, studentAssessment_df, on=['id_student', 'code_module', 'code_presentation'], how='left')\n",
        "\n",
        "# Merge with studentRegistration\n",
        "merged_data = pd.merge(merged_info_assessment, studentRegistration_df, on=['id_student', 'code_module', 'code_presentation'], how='left')\n",
        "\n",
        "# Merge with all_student_vle\n",
        "merged_data = pd.merge(merged_data, all_student_vle, on=['id_student', 'code_module', 'code_presentation'], how='left')\n",
        "\n",
        "# Merge with vle dataset\n",
        "merged_data = pd.merge(merged_data, vle_df, on=['id_site', 'code_module', 'code_presentation'], how='left')\n",
        "\n",
        "# Display the merged dataset preview\n",
        "import ace_tools as tools; tools.display_dataframe_to_user(name=\"Merged Data\", dataframe=merged_data.head())\n"
      ],
      "metadata": {
        "id": "qLjBofFKyJ-u",
        "outputId": "2d21dca8-06e7-465a-be4e-48d1da0afb1a",
        "colab": {
          "base_uri": "https://localhost:8080/",
          "height": 373
        }
      },
      "execution_count": 73,
      "outputs": [
        {
          "output_type": "error",
          "ename": "KeyError",
          "evalue": "'code_module'",
          "traceback": [
            "\u001b[0;31m---------------------------------------------------------------------------\u001b[0m",
            "\u001b[0;31mKeyError\u001b[0m                                  Traceback (most recent call last)",
            "\u001b[0;32m<ipython-input-73-281155f9d866>\u001b[0m in \u001b[0;36m<cell line: 7>\u001b[0;34m()\u001b[0m\n\u001b[1;32m      5\u001b[0m \u001b[0;34m\u001b[0m\u001b[0m\n\u001b[1;32m      6\u001b[0m \u001b[0;31m# Merge studentInfo with studentAssessment\u001b[0m\u001b[0;34m\u001b[0m\u001b[0;34m\u001b[0m\u001b[0m\n\u001b[0;32m----> 7\u001b[0;31m \u001b[0mmerged_info_assessment\u001b[0m \u001b[0;34m=\u001b[0m \u001b[0mpd\u001b[0m\u001b[0;34m.\u001b[0m\u001b[0mmerge\u001b[0m\u001b[0;34m(\u001b[0m\u001b[0mstudentInfo_df\u001b[0m\u001b[0;34m,\u001b[0m \u001b[0mstudentAssessment_df\u001b[0m\u001b[0;34m,\u001b[0m \u001b[0mon\u001b[0m\u001b[0;34m=\u001b[0m\u001b[0;34m[\u001b[0m\u001b[0;34m'id_student'\u001b[0m\u001b[0;34m,\u001b[0m \u001b[0;34m'code_module'\u001b[0m\u001b[0;34m,\u001b[0m \u001b[0;34m'code_presentation'\u001b[0m\u001b[0;34m]\u001b[0m\u001b[0;34m,\u001b[0m \u001b[0mhow\u001b[0m\u001b[0;34m=\u001b[0m\u001b[0;34m'left'\u001b[0m\u001b[0;34m)\u001b[0m\u001b[0;34m\u001b[0m\u001b[0;34m\u001b[0m\u001b[0m\n\u001b[0m\u001b[1;32m      8\u001b[0m \u001b[0;34m\u001b[0m\u001b[0m\n\u001b[1;32m      9\u001b[0m \u001b[0;31m# Merge with studentRegistration\u001b[0m\u001b[0;34m\u001b[0m\u001b[0;34m\u001b[0m\u001b[0m\n",
            "\u001b[0;32m/usr/local/lib/python3.10/dist-packages/pandas/core/reshape/merge.py\u001b[0m in \u001b[0;36mmerge\u001b[0;34m(left, right, how, on, left_on, right_on, left_index, right_index, sort, suffixes, copy, indicator, validate)\u001b[0m\n\u001b[1;32m    146\u001b[0m     \u001b[0mvalidate\u001b[0m\u001b[0;34m:\u001b[0m \u001b[0mstr\u001b[0m \u001b[0;34m|\u001b[0m \u001b[0;32mNone\u001b[0m \u001b[0;34m=\u001b[0m \u001b[0;32mNone\u001b[0m\u001b[0;34m,\u001b[0m\u001b[0;34m\u001b[0m\u001b[0;34m\u001b[0m\u001b[0m\n\u001b[1;32m    147\u001b[0m ) -> DataFrame:\n\u001b[0;32m--> 148\u001b[0;31m     op = _MergeOperation(\n\u001b[0m\u001b[1;32m    149\u001b[0m         \u001b[0mleft\u001b[0m\u001b[0;34m,\u001b[0m\u001b[0;34m\u001b[0m\u001b[0;34m\u001b[0m\u001b[0m\n\u001b[1;32m    150\u001b[0m         \u001b[0mright\u001b[0m\u001b[0;34m,\u001b[0m\u001b[0;34m\u001b[0m\u001b[0;34m\u001b[0m\u001b[0m\n",
            "\u001b[0;32m/usr/local/lib/python3.10/dist-packages/pandas/core/reshape/merge.py\u001b[0m in \u001b[0;36m__init__\u001b[0;34m(self, left, right, how, on, left_on, right_on, axis, left_index, right_index, sort, suffixes, indicator, validate)\u001b[0m\n\u001b[1;32m    735\u001b[0m             \u001b[0mself\u001b[0m\u001b[0;34m.\u001b[0m\u001b[0mright_join_keys\u001b[0m\u001b[0;34m,\u001b[0m\u001b[0;34m\u001b[0m\u001b[0;34m\u001b[0m\u001b[0m\n\u001b[1;32m    736\u001b[0m             \u001b[0mself\u001b[0m\u001b[0;34m.\u001b[0m\u001b[0mjoin_names\u001b[0m\u001b[0;34m,\u001b[0m\u001b[0;34m\u001b[0m\u001b[0;34m\u001b[0m\u001b[0m\n\u001b[0;32m--> 737\u001b[0;31m         ) = self._get_merge_keys()\n\u001b[0m\u001b[1;32m    738\u001b[0m \u001b[0;34m\u001b[0m\u001b[0m\n\u001b[1;32m    739\u001b[0m         \u001b[0;31m# validate the merge keys dtypes. We may need to coerce\u001b[0m\u001b[0;34m\u001b[0m\u001b[0;34m\u001b[0m\u001b[0m\n",
            "\u001b[0;32m/usr/local/lib/python3.10/dist-packages/pandas/core/reshape/merge.py\u001b[0m in \u001b[0;36m_get_merge_keys\u001b[0;34m(self)\u001b[0m\n\u001b[1;32m   1201\u001b[0m                         \u001b[0mrk\u001b[0m \u001b[0;34m=\u001b[0m \u001b[0mcast\u001b[0m\u001b[0;34m(\u001b[0m\u001b[0mHashable\u001b[0m\u001b[0;34m,\u001b[0m \u001b[0mrk\u001b[0m\u001b[0;34m)\u001b[0m\u001b[0;34m\u001b[0m\u001b[0;34m\u001b[0m\u001b[0m\n\u001b[1;32m   1202\u001b[0m                         \u001b[0;32mif\u001b[0m \u001b[0mrk\u001b[0m \u001b[0;32mis\u001b[0m \u001b[0;32mnot\u001b[0m \u001b[0;32mNone\u001b[0m\u001b[0;34m:\u001b[0m\u001b[0;34m\u001b[0m\u001b[0;34m\u001b[0m\u001b[0m\n\u001b[0;32m-> 1203\u001b[0;31m                             \u001b[0mright_keys\u001b[0m\u001b[0;34m.\u001b[0m\u001b[0mappend\u001b[0m\u001b[0;34m(\u001b[0m\u001b[0mright\u001b[0m\u001b[0;34m.\u001b[0m\u001b[0m_get_label_or_level_values\u001b[0m\u001b[0;34m(\u001b[0m\u001b[0mrk\u001b[0m\u001b[0;34m)\u001b[0m\u001b[0;34m)\u001b[0m\u001b[0;34m\u001b[0m\u001b[0;34m\u001b[0m\u001b[0m\n\u001b[0m\u001b[1;32m   1204\u001b[0m                         \u001b[0;32melse\u001b[0m\u001b[0;34m:\u001b[0m\u001b[0;34m\u001b[0m\u001b[0;34m\u001b[0m\u001b[0m\n\u001b[1;32m   1205\u001b[0m                             \u001b[0;31m# work-around for merge_asof(right_index=True)\u001b[0m\u001b[0;34m\u001b[0m\u001b[0;34m\u001b[0m\u001b[0m\n",
            "\u001b[0;32m/usr/local/lib/python3.10/dist-packages/pandas/core/generic.py\u001b[0m in \u001b[0;36m_get_label_or_level_values\u001b[0;34m(self, key, axis)\u001b[0m\n\u001b[1;32m   1776\u001b[0m             \u001b[0mvalues\u001b[0m \u001b[0;34m=\u001b[0m \u001b[0mself\u001b[0m\u001b[0;34m.\u001b[0m\u001b[0maxes\u001b[0m\u001b[0;34m[\u001b[0m\u001b[0maxis\u001b[0m\u001b[0;34m]\u001b[0m\u001b[0;34m.\u001b[0m\u001b[0mget_level_values\u001b[0m\u001b[0;34m(\u001b[0m\u001b[0mkey\u001b[0m\u001b[0;34m)\u001b[0m\u001b[0;34m.\u001b[0m\u001b[0m_values\u001b[0m\u001b[0;34m\u001b[0m\u001b[0;34m\u001b[0m\u001b[0m\n\u001b[1;32m   1777\u001b[0m         \u001b[0;32melse\u001b[0m\u001b[0;34m:\u001b[0m\u001b[0;34m\u001b[0m\u001b[0;34m\u001b[0m\u001b[0m\n\u001b[0;32m-> 1778\u001b[0;31m             \u001b[0;32mraise\u001b[0m \u001b[0mKeyError\u001b[0m\u001b[0;34m(\u001b[0m\u001b[0mkey\u001b[0m\u001b[0;34m)\u001b[0m\u001b[0;34m\u001b[0m\u001b[0;34m\u001b[0m\u001b[0m\n\u001b[0m\u001b[1;32m   1779\u001b[0m \u001b[0;34m\u001b[0m\u001b[0m\n\u001b[1;32m   1780\u001b[0m         \u001b[0;31m# Check for duplicates\u001b[0m\u001b[0;34m\u001b[0m\u001b[0;34m\u001b[0m\u001b[0m\n",
            "\u001b[0;31mKeyError\u001b[0m: 'code_module'"
          ]
        }
      ]
    },
    {
      "cell_type": "code",
      "source": [],
      "metadata": {
        "id": "0Fc56UZWyKBd"
      },
      "execution_count": null,
      "outputs": []
    },
    {
      "cell_type": "code",
      "source": [],
      "metadata": {
        "id": "WCVKDekdyKFs"
      },
      "execution_count": null,
      "outputs": []
    },
    {
      "cell_type": "code",
      "source": [],
      "metadata": {
        "id": "FCk1uz2_yKIQ"
      },
      "execution_count": null,
      "outputs": []
    },
    {
      "cell_type": "code",
      "source": [],
      "metadata": {
        "id": "yftNV3JMyKK6"
      },
      "execution_count": null,
      "outputs": []
    },
    {
      "cell_type": "code",
      "source": [],
      "metadata": {
        "id": "xzJj_5bFyKRM"
      },
      "execution_count": null,
      "outputs": []
    },
    {
      "cell_type": "code",
      "source": [],
      "metadata": {
        "id": "9jYIvsG_yKYR"
      },
      "execution_count": null,
      "outputs": []
    }
  ]
}